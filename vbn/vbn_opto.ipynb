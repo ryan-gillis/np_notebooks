{
 "cells": [
  {
   "cell_type": "markdown",
   "metadata": {},
   "source": [
    "# *VBN opto - Nov 2023*\n",
    "<img src=\"\" width=\"380\" />"
   ]
  },
  {
   "cell_type": "code",
   "execution_count": null,
   "metadata": {},
   "outputs": [],
   "source": [
    "%env AIBS_RIG_ID=NP2"
   ]
  },
  {
   "cell_type": "markdown",
   "metadata": {},
   "source": [
    "## Run the update/reset shortcut on the desktop before each experiment\n",
    "***\n",
    "***\n",
    "# **Without mouse on stage**"
   ]
  },
  {
   "cell_type": "code",
   "execution_count": null,
   "metadata": {
    "tags": []
   },
   "outputs": [],
   "source": [
    "import contextlib\n",
    "import time\n",
    "\n",
    "import np_config\n",
    "import np_jobs\n",
    "import np_logging\n",
    "import np_services\n",
    "import np_session\n",
    "import np_workflows\n",
    "from np_workflows import npxc\n",
    "import np_workflows.experiments.openscope_barcode as Barcode\n",
    "\n",
    "from np_services.resources.zro import ZroError \n",
    "import contextlib\n",
    "\n",
    "logger = np_logging.getLogger()\n",
    "\n",
    "np_workflows.elapsed_time_widget()"
   ]
  },
  {
   "cell_type": "markdown",
   "metadata": {},
   "source": [
    "***\n",
    "## Quiet mode\n",
    "**on**  [*default*]\n",
    "- error details are hidden\n",
    "- regular messages displayed (log level = INFO)\n",
    "\n",
    "**off**\n",
    "- full error details (with traceback)\n",
    "- extra messages displayed (log level = DEBUG)"
   ]
  },
  {
   "cell_type": "code",
   "execution_count": null,
   "metadata": {
    "tags": []
   },
   "outputs": [],
   "source": [
    "np_workflows.quiet_mode_widget()"
   ]
  },
  {
   "cell_type": "markdown",
   "metadata": {},
   "source": [
    "***\n",
    "## Launch apps via RSC\n",
    "[optional]"
   ]
  },
  {
   "cell_type": "code",
   "execution_count": null,
   "metadata": {
    "tags": []
   },
   "outputs": [],
   "source": [
    "with contextlib.suppress(Exception):\n",
    "    np_services.start_rsc_apps()"
   ]
  },
  {
   "cell_type": "markdown",
   "metadata": {},
   "source": [
    "***\n",
    "## Select mouse and user"
   ]
  },
  {
   "cell_type": "code",
   "execution_count": null,
   "metadata": {
    "tags": []
   },
   "outputs": [],
   "source": [
    "user, mouse = np_workflows.user_and_mouse_widget()"
   ]
  },
  {
   "cell_type": "markdown",
   "metadata": {},
   "source": [
    "***\n",
    "## Check MTrain and select workflow\n",
    "Re-run cell this cell if mouse ID is changed"
   ]
  },
  {
   "cell_type": "code",
   "execution_count": null,
   "metadata": {
    "tags": []
   },
   "outputs": [],
   "source": [
    "np_workflows.mtrain_widget(mouse)"
   ]
  },
  {
   "cell_type": "code",
   "execution_count": null,
   "metadata": {},
   "outputs": [],
   "source": [
    "import enum\n",
    "import functools\n",
    "import json\n",
    "import pathlib\n",
    "from typing import Literal\n",
    "\n",
    "class Workflow(enum.Enum):\n",
    "    \"\"\"Enum for the different session types available .\n",
    "    - can control workflow and paramater sets\n",
    "    \"\"\"\n",
    "    PRETEST = \"pretest\"\n",
    "    HAB = \"hab\"\n",
    "    EPHYS = \"ephys\"\n",
    "      \n",
    "class VBNMixin:\n",
    "    \"\"\"Provides project-specific methods and attributes, mainly related to camstim scripts.\"\"\"\n",
    "    \n",
    "    workflow: Workflow\n",
    "    \"\"\"Enum for particular workflow/session, e.g. PRETEST, HAB_60, HAB_90,\n",
    "    EPHYS.\"\"\"\n",
    "    \n",
    "    session: np_session.PipelineSession\n",
    "    mouse: np_session.Mouse\n",
    "    user: np_session.User\n",
    "    platform_json: np_session.PlatformJson\n",
    "    camstim_script_path: str = '//allen/programs/mindscope/workgroups/dynamicrouting/docOpto/run_script.py'\n",
    "    \n",
    "    @property\n",
    "    def camstim_params(self) -> dict[str, str]:\n",
    "        return dict(json_path=self.camstim_params_path)\n",
    "        \n",
    "    @property\n",
    "    def camstim_params_path(self) -> str:\n",
    "        return f'//allen/programs/mindscope/workgroups/dynamicrouting/docOpto/laser_script_params_HVAsilencing_{self.mouse}_{self.ephys_day}.json'\n",
    "                \n",
    "    @property \n",
    "    def ephys_day(self) -> int:\n",
    "        if getattr(self, '_ephys_day', None) is None:\n",
    "            self._ephys_day = self.mouse.state.get('last_ephys_day', 0) + 1\n",
    "        return self._ephys_day\n",
    "\n",
    "    @ephys_day.setter\n",
    "    def ephys_day(self, value:int) -> None:\n",
    "        self._ephys_day=value\n",
    "        \n",
    "    @property\n",
    "    def recorders(self) -> tuple[np_services.Service, ...]:\n",
    "        \"\"\"Services to be started before stimuli run, and stopped after. Session-dependent.\"\"\"\n",
    "        match self.workflow:\n",
    "            case Workflow.PRETEST | Workflow.EPHYS:\n",
    "                return (np_services.Sync, np_services.VideoMVR, np_services.OpenEphys)\n",
    "            case Workflow.HAB:\n",
    "                return (np_services.Sync, np_services.VideoMVR)\n",
    "\n",
    "    @property\n",
    "    def stims(self) -> tuple[np_services.Service, ...]:\n",
    "        return (np_services.ScriptCamstim, )\n",
    "    \n",
    "    def initialize_and_test_services(self) -> None:\n",
    "        \"\"\"Configure, initialize (ie. reset), then test all services.\"\"\"\n",
    "        \n",
    "        np_services.MouseDirector.user = self.user.id\n",
    "        np_services.MouseDirector.mouse = self.mouse.id\n",
    "\n",
    "        np_services.OpenEphys.folder = self.session.folder\n",
    "\n",
    "        np_services.NewScaleCoordinateRecorder.log_root = self.session.npexp_path\n",
    "        np_services.NewScaleCoordinateRecorder.log_name = self.platform_json.path.name\n",
    "\n",
    "        assert pathlib.Path(self.camstim_script_path).exists(), f\"Filepath does not exist or is not accessible: {self.camstim_script_path=}\"\n",
    "        assert pathlib.Path(self.camstim_params_path).exists(), f\"Filepath does not exist or is not accessible: {self.camstim_params_path=}\"\n",
    "        \n",
    "        np_services.ScriptCamstim.script = self.camstim_script_path\n",
    "        np_services.ScriptCamstim.params = self.camstim_params\n",
    "        \n",
    "        self.configure_services()\n",
    "\n",
    "        super().initialize_and_test_services()\n",
    "\n",
    "    def update_state(self) -> None:\n",
    "        \"Store useful but non-essential info.\"\n",
    "        self.mouse.state['last_session'] = self.session.id\n",
    "        self.mouse.state['last_vbn_session'] = str(self.workflow)\n",
    "        self.mouse.state['last_ephys_day'] = self.ephys_day\n",
    "        today = self.session.date.strftime('%y%m%d')\n",
    "        previous_run_date = self.mouse.state.setdefault(f'ephys_day_{self.ephys_day}', today)\n",
    "        assert previous_run_date == today, f\"{self.ephys_day = } already ran on {previous_run_date}\"\n",
    "            \n",
    "        if self.mouse == 366122:\n",
    "            return\n",
    "        match self.workflow:\n",
    "            case Workflow.PRETEST:\n",
    "                return\n",
    "            case Workflow.HAB:\n",
    "                self.session.project.state['latest_hab'] = self.session.id\n",
    "            case Workflow.EPHYS:\n",
    "                self.session.project.state['latest_ephys'] = self.session.id\n",
    "                self.session.project.state['sessions'] = self.session.project.state.get('sessions', []) + [self.session.id]\n",
    "                \n",
    "    def run_stim(self) -> None:\n",
    "\n",
    "        self.update_state()\n",
    "        \n",
    "        if not np_services.ScriptCamstim.is_ready_to_start():\n",
    "            raise RuntimeError(\"ScriptCamstim is not ready to start.\")\n",
    "        \n",
    "        np_services.ScriptCamstim.script = self.camstim_script_path\n",
    "        np_services.ScriptCamstim.params = self.camstim_params\n",
    "        \n",
    "        np_logging.web(f'vbn_{self.workflow.name.lower()}').info(f\"Started camstim script\")\n",
    "        np_services.ScriptCamstim.start()\n",
    "        \n",
    "        with contextlib.suppress(Exception):\n",
    "            while not np_services.ScriptCamstim.is_ready_to_start():\n",
    "                time.sleep(2.5)\n",
    "            \n",
    "        if isinstance(np_services.ScriptCamstim, np_services.Finalizable):\n",
    "            np_services.ScriptCamstim.finalize()\n",
    "\n",
    "        with contextlib.suppress(Exception):\n",
    "            np_logging.web(f'barcode_{self.workflow.name.lower()}').info(f\"Finished session {self.mouse.mtrain.stage['name']}\")\n",
    "    \n",
    "    \n",
    "    def copy_data_files(self) -> None: \n",
    "        super().copy_data_files()\n",
    "        \n",
    "        # When all processing completes, camstim Agent class passes data and uuid to\n",
    "        # /camstim/lims BehaviorSession class, and write_behavior_data() writes a\n",
    "        # final .pkl with default name YYYYMMDDSSSS_mouseID_foragingID.pkl\n",
    "        # - if we have a foraging ID, we can search for that\n",
    "        if None == (stim_pkl := next(self.session.npexp_path.glob(f'{self.session.date:%y%m%d}*_{self.session.mouse}_*.pkl'), None)):\n",
    "            logger.warning('Did not find stim file on npexp matching the format `YYYYMMDDSSSS_mouseID_foragingID.pkl`')\n",
    "            return\n",
    "        assert stim_pkl\n",
    "        if not self.session.platform_json.foraging_id:\n",
    "            self.session.platform_json.foraging_id = stim_pkl.stem.split('_')[-1]\n",
    "        new_stem = f'{self.session.folder}.stim'\n",
    "        logger.debug(f'Renaming stim file copied to npexp: {stim_pkl} -> {new_stem}')\n",
    "        stim_pkl = stim_pkl.rename(stim_pkl.with_stem(new_stem))\n",
    "        \n",
    "        # remove other stim pkl, which is nearly identical, if it was also copied\n",
    "        for pkl in self.session.npexp_path.glob('*.pkl'):\n",
    "            if (\n",
    "                self.session.folder not in pkl.stem\n",
    "                and \n",
    "                abs(pkl.stat().st_size - stim_pkl.stat().st_size) < 1e6\n",
    "            ):\n",
    "                logger.debug(f'Deleting extra stim pkl copied to npexp: {pkl.stem}')\n",
    "                pkl.unlink()\n",
    "        \n",
    "    def run_stim_desktop_theme_script(self, selection: str) -> None:     \n",
    "        np_services.ScriptCamstim.script = '//allen/programs/mindscope/workgroups/dynamicrouting/ben/change_desktop.py'\n",
    "        np_services.ScriptCamstim.params = {'selection': selection}\n",
    "        np_services.ScriptCamstim.start()\n",
    "        while not np_services.ScriptCamstim.is_ready_to_start():\n",
    "            time.sleep(0.1)\n",
    "\n",
    "    set_grey_desktop_on_stim = functools.partialmethod(run_stim_desktop_theme_script, 'grey')\n",
    "    set_dark_desktop_on_stim = functools.partialmethod(run_stim_desktop_theme_script, 'dark')\n",
    "    reset_desktop_on_stim = functools.partialmethod(run_stim_desktop_theme_script, 'reset')\n",
    "\n",
    "            \n",
    "\n",
    "class Hab(VBNMixin, np_workflows.PipelineHab):\n",
    "    def __init__(self, *args, **kwargs):\n",
    "        self.services = (\n",
    "            np_services.MouseDirector,\n",
    "            np_services.Sync,\n",
    "            np_services.VideoMVR,\n",
    "            self.imager,\n",
    "            np_services.NewScaleCoordinateRecorder,\n",
    "            np_services.SessionCamstim,\n",
    "        )\n",
    "        super().__init__(*args, **kwargs)\n",
    "\n",
    "\n",
    "class Ephys(VBNMixin, np_workflows.PipelineEphys):\n",
    "    def __init__(self, *args, **kwargs):\n",
    "        self.services = (\n",
    "            np_services.MouseDirector,\n",
    "            np_services.Sync,\n",
    "            np_services.VideoMVR,\n",
    "            self.imager,\n",
    "            np_services.NewScaleCoordinateRecorder,\n",
    "            np_services.SessionCamstim,\n",
    "            np_services.OpenEphys,\n",
    "        )\n",
    "        super().__init__(*args, **kwargs)\n",
    "\n",
    "\n",
    "# --------------------------------------------------------------------------------------\n",
    "\n",
    "\n",
    "def new_experiment(\n",
    "    mouse: int | str | np_session.Mouse,\n",
    "    user: str | np_session.User,\n",
    "    workflow: Workflow = Workflow.PRETEST,\n",
    ") -> Ephys | Hab:\n",
    "    \"\"\"Create a new experiment for the given mouse and user.\"\"\"\n",
    "    match workflow:\n",
    "        case Workflow.PRETEST | Workflow.EPHYS:\n",
    "            experiment = Ephys(mouse, user)\n",
    "        case Workflow.HAB:\n",
    "            experiment = Hab(mouse, user)\n",
    "        case _:\n",
    "            raise ValueError(f\"Invalid workflow type: {workflow}\")\n",
    "    experiment.workflow = workflow\n",
    "    \n",
    "    with contextlib.suppress(Exception):\n",
    "        np_logging.web(f'barcode_{experiment.workflow.name.lower()}').info(f\"{experiment} created\")\n",
    "            \n",
    "    return experiment\n",
    "\n"
   ]
  },
  {
   "cell_type": "markdown",
   "metadata": {},
   "source": [
    "---\n",
    "## Select workflow to run"
   ]
  },
  {
   "cell_type": "code",
   "execution_count": null,
   "metadata": {},
   "outputs": [],
   "source": [
    "selected_workflow = Workflow.EPHYS\n",
    "# selected_workflow = Workflow.HAB"
   ]
  },
  {
   "cell_type": "markdown",
   "metadata": {},
   "source": [
    "***\n",
    "## Generate new session\n",
    "Check mouse ID and session are correct: this cell will lock them in!"
   ]
  },
  {
   "cell_type": "code",
   "execution_count": null,
   "metadata": {
    "tags": []
   },
   "outputs": [],
   "source": [
    "experiment: np_workflows.PipelineExperiment = new_experiment(mouse, user, selected_workflow)\n",
    "session: np_session.PipelineSession = experiment.session\n",
    "platform_json: np_session.PlatformJson = experiment.session.platform_json\n",
    "\n",
    "platform_json.workflow_start_time = npxc.now()\n",
    "hab: bool = isinstance(experiment, Hab)"
   ]
  },
  {
   "cell_type": "markdown",
   "metadata": {},
   "source": [
    "### Confirm that the experiment day is right. This will determine the stimulus used:"
   ]
  },
  {
   "cell_type": "code",
   "execution_count": null,
   "metadata": {},
   "outputs": [],
   "source": [
    "print(f'Inferred Experiment Day: {experiment.ephys_day}')"
   ]
  },
  {
   "cell_type": "code",
   "execution_count": null,
   "metadata": {},
   "outputs": [],
   "source": [
    "experiment.session.npexp_path.exists()"
   ]
  },
  {
   "cell_type": "markdown",
   "metadata": {},
   "source": [
    "***\n",
    "## Checks before starting"
   ]
  },
  {
   "cell_type": "markdown",
   "metadata": {},
   "source": [
    "### **Ephys day 2?** \n",
    "Don't forget to adjust probe targeting!"
   ]
  },
  {
   "cell_type": "code",
   "execution_count": null,
   "metadata": {
    "tags": []
   },
   "outputs": [],
   "source": [
    "np_workflows.check_hardware_widget()"
   ]
  },
  {
   "cell_type": "code",
   "execution_count": null,
   "metadata": {
    "tags": []
   },
   "outputs": [],
   "source": [
    "if not hab:\n",
    "    np_workflows.check_openephys_widget()"
   ]
  },
  {
   "cell_type": "markdown",
   "metadata": {
    "tags": []
   },
   "source": [
    "***\n",
    "## Setup, test, reset all components\n",
    "*This cell must not be skipped!*"
   ]
  },
  {
   "cell_type": "code",
   "execution_count": null,
   "metadata": {},
   "outputs": [],
   "source": [
    "with contextlib.suppress(ZroError):\n",
    "    experiment.initialize_and_test_services()"
   ]
  },
  {
   "cell_type": "markdown",
   "metadata": {},
   "source": [
    "---\n",
    "## MouseDirector: extend lick spout and set position for mouse\n",
    "- so it doesn't fly out to an unknown position when the mouse is on the stage"
   ]
  },
  {
   "cell_type": "markdown",
   "metadata": {},
   "source": [
    "***\n",
    "## Dip probes"
   ]
  },
  {
   "cell_type": "code",
   "execution_count": null,
   "metadata": {
    "tags": []
   },
   "outputs": [],
   "source": [
    "if not hab:\n",
    "    print(np_workflows.dye_info_widget.__doc__)\n",
    "    np_workflows.dye_info_widget(session)"
   ]
  },
  {
   "cell_type": "markdown",
   "metadata": {},
   "source": [
    "## Photodoc of probes in dye"
   ]
  },
  {
   "cell_type": "code",
   "execution_count": null,
   "metadata": {},
   "outputs": [],
   "source": [
    "if not hab:\n",
    "    print(str(session) + '_surface-image1-left')"
   ]
  },
  {
   "cell_type": "markdown",
   "metadata": {},
   "source": [
    "## Probe depths in dye"
   ]
  },
  {
   "cell_type": "code",
   "execution_count": null,
   "metadata": {},
   "outputs": [],
   "source": [
    "if not hab:\n",
    "    np_workflows.probe_depth_widget(session)"
   ]
  },
  {
   "cell_type": "markdown",
   "metadata": {},
   "source": [
    "***\n",
    "***\n",
    "# **With mouse on stage**\n",
    "## Before lowering cartridge"
   ]
  },
  {
   "cell_type": "code",
   "execution_count": null,
   "metadata": {
    "tags": []
   },
   "outputs": [],
   "source": [
    "experiment.log('Mouse on stage')\n",
    "platform_json.HeadFrameEntryTime = npxc.now()\n",
    "np_workflows.wheel_height_widget(session)\n",
    "np_workflows.check_mouse_widget"
   ]
  },
  {
   "cell_type": "markdown",
   "metadata": {},
   "source": [
    "***\n",
    "## When cartridge is lowered\n",
    "\n",
    "### Set zoom to 4.0 for photodocs of brain\n",
    "- focus on the brain surface\n",
    "\n",
    "## Photodoc of brain (tap probes if hab Day1 or Day2)"
   ]
  },
  {
   "cell_type": "code",
   "execution_count": null,
   "metadata": {
    "tags": []
   },
   "outputs": [],
   "source": [
    "platform_json.CartridgeLowerTime = npxc.now()\n",
    "print(str(session) + '_surface-image2-left')"
   ]
  },
  {
   "cell_type": "markdown",
   "metadata": {},
   "source": [
    "***\n",
    "## ISI map"
   ]
  },
  {
   "cell_type": "code",
   "execution_count": null,
   "metadata": {},
   "outputs": [],
   "source": [
    "np_workflows.isi_widget(mouse.lims)"
   ]
  },
  {
   "cell_type": "markdown",
   "metadata": {},
   "source": [
    "***\n",
    "## Probe insertion"
   ]
  },
  {
   "cell_type": "code",
   "execution_count": null,
   "metadata": {
    "tags": []
   },
   "outputs": [],
   "source": [
    "if not hab:\n",
    "    platform_json.ProbeInsertionStartTime = npxc.now()"
   ]
  },
  {
   "cell_type": "markdown",
   "metadata": {},
   "source": [
    "---\n",
    "## Extra advance & retract each probe\n",
    "- use NewScale GUI to advance an extra 100 $\\mu m$ at 200 $\\mu m/s$, then reverse 100 $\\mu m$ at the same rate"
   ]
  },
  {
   "cell_type": "markdown",
   "metadata": {},
   "source": [
    "***\n",
    "## Photodoc before advancing probes"
   ]
  },
  {
   "cell_type": "code",
   "execution_count": null,
   "metadata": {
    "tags": []
   },
   "outputs": [],
   "source": [
    "if not hab:\n",
    "    print(str(session) + '_surface-image3-left')"
   ]
  },
  {
   "cell_type": "markdown",
   "metadata": {},
   "source": [
    "***\n",
    "## Settle timer & insertion notes & turn on laser\n",
    "\n",
    "- run both cells now: settle timer will start\n",
    "\n",
    "- fill out probe notes while waiting\n",
    "\n",
    "- press Save once\n",
    "\n",
    "- notes are saved when the timer finishes (button will turn green to confirm)\n",
    "\n",
    "### *also turn on laser while waiting...*"
   ]
  },
  {
   "cell_type": "code",
   "execution_count": null,
   "metadata": {},
   "outputs": [],
   "source": [
    "if not hab:\n",
    "    np_workflows.insertion_notes_widget(session)"
   ]
  },
  {
   "cell_type": "code",
   "execution_count": null,
   "metadata": {
    "tags": []
   },
   "outputs": [],
   "source": [
    "if not hab:\n",
    "    experiment.set_dark_desktop_on_stim()\n",
    "    experiment.log('settle timer started')\n",
    "    np_workflows.print_countdown_timer(minutes=.1 if experiment.workflow.value == 'pretest' else 30)\n",
    "    experiment.log('settle timer finished')"
   ]
  },
  {
   "cell_type": "markdown",
   "metadata": {},
   "source": [
    "***\n",
    "## Photodoc after probes settled, before experiment"
   ]
  },
  {
   "cell_type": "code",
   "execution_count": null,
   "metadata": {
    "tags": []
   },
   "outputs": [],
   "source": [
    "if not hab:\n",
    "    print(str(session) + '_surface-image4-left')"
   ]
  },
  {
   "cell_type": "code",
   "execution_count": null,
   "metadata": {},
   "outputs": [],
   "source": [
    "np_workflows.pre_stim_check_widget()"
   ]
  },
  {
   "cell_type": "markdown",
   "metadata": {},
   "source": [
    "---\n",
    "### *Before recording: make sure sorting queue is not running!*\n",
    "-  `run_sorting.exe`\n",
    "- window may be minimized"
   ]
  },
  {
   "cell_type": "markdown",
   "metadata": {},
   "source": [
    "***\n",
    "## Start devices recording"
   ]
  },
  {
   "cell_type": "code",
   "execution_count": null,
   "metadata": {
    "tags": []
   },
   "outputs": [],
   "source": [
    "last_exception = Exception()\n",
    "attempts = 3\n",
    "while attempts:\n",
    "    np_logging.getLogger().info('Waiting for recorders to finish processing') \n",
    "    while not all(r.is_ready_to_start() for r in experiment.recorders):\n",
    "        time.sleep(1)\n",
    "    np_logging.getLogger().info('Recorders ready')     \n",
    "    try:\n",
    "        experiment.start_recording()\n",
    "    except AssertionError as exc:\n",
    "        np_logging.getLogger().info('`experiment.start_recording` failed: trying again')\n",
    "        attempts -= 1\n",
    "        last_exception = exc              # exc only exists within the try block\n",
    "    \n",
    "    else:\n",
    "        break\n",
    "else:\n",
    "    np_logging.getLogger().error(f'`experiment.start_recording` failed after multiple attempts', exc_info=last_exception)\n",
    "    raise last_exception"
   ]
  },
  {
   "cell_type": "markdown",
   "metadata": {},
   "source": [
    "***\n",
    "## Start stimulus\n",
    "mapping | main | opto \n",
    "\n",
    "\n",
    "Script and params determined by MTrain stage"
   ]
  },
  {
   "cell_type": "code",
   "execution_count": null,
   "metadata": {},
   "outputs": [],
   "source": [
    "np_services.MouseDirector.get_proxy().extend_lick_spout()"
   ]
  },
  {
   "cell_type": "code",
   "execution_count": null,
   "metadata": {
    "tags": []
   },
   "outputs": [],
   "source": [
    "with contextlib.suppress(ZroError):\n",
    "    experiment.run_stim()"
   ]
  },
  {
   "cell_type": "markdown",
   "metadata": {},
   "source": [
    "***\n",
    "## Stop recording"
   ]
  },
  {
   "cell_type": "code",
   "execution_count": null,
   "metadata": {
    "tags": []
   },
   "outputs": [],
   "source": [
    "with contextlib.suppress(ZroError):\n",
    "    experiment.stop_recording_after_stim_finished()"
   ]
  },
  {
   "cell_type": "code",
   "execution_count": null,
   "metadata": {},
   "outputs": [],
   "source": [
    "np_services.MouseDirector.get_proxy().retract_lick_spout()\n",
    "experiment.reset_desktop_on_stim()"
   ]
  },
  {
   "cell_type": "markdown",
   "metadata": {},
   "source": [
    "***\n",
    "## Before removing probes"
   ]
  },
  {
   "cell_type": "code",
   "execution_count": null,
   "metadata": {
    "tags": []
   },
   "outputs": [],
   "source": [
    "if not hab:\n",
    "    print(str(session) + '_surface-image5-left')"
   ]
  },
  {
   "cell_type": "markdown",
   "metadata": {},
   "source": [
    "***\n",
    "## After fully retracting probes"
   ]
  },
  {
   "cell_type": "code",
   "execution_count": null,
   "metadata": {
    "tags": []
   },
   "outputs": [],
   "source": [
    "if not hab:    \n",
    "    print(str(session) + '_surface-image6-left')"
   ]
  },
  {
   "cell_type": "markdown",
   "metadata": {},
   "source": [
    "***\n",
    "## After raising cartridge"
   ]
  },
  {
   "cell_type": "code",
   "execution_count": null,
   "metadata": {
    "notebookRunGroups": {
     "groupValue": "1"
    },
    "tags": []
   },
   "outputs": [],
   "source": [
    "platform_json.HeadFrameExitTime = npxc.now()\n",
    "\n",
    "np_workflows.finishing_checks_widget()"
   ]
  },
  {
   "cell_type": "markdown",
   "metadata": {},
   "source": [
    "## Finalize"
   ]
  },
  {
   "cell_type": "code",
   "execution_count": null,
   "metadata": {},
   "outputs": [],
   "source": [
    "platform_json.workflow_complete_time = npxc.now()\n",
    "\n",
    "experiment.finalize_services(*experiment.recorders, *experiment.stims)\n",
    "experiment.validate_services(*experiment.recorders, *experiment.stims)"
   ]
  },
  {
   "cell_type": "markdown",
   "metadata": {},
   "source": [
    "## Copy data"
   ]
  },
  {
   "cell_type": "code",
   "execution_count": null,
   "metadata": {},
   "outputs": [],
   "source": [
    "experiment.copy_data_files()"
   ]
  },
  {
   "cell_type": "markdown",
   "metadata": {},
   "source": [
    "# Add to post-experiment pipeline\n",
    "\n",
    "**hab**\n",
    "- add session to QC queue\n",
    "\n",
    "**ephys**\n",
    "- add session to np-exp upload queue, specifying this rig's Acq as `hostname`\n",
    "    - ensures checksum-validated copy of ephys data on np-exp\n",
    "    - then adds session to spike-sorting queue\n",
    "    - then adds session to QC queue\n",
    "\n",
    "    \n",
    "    #### run *\"process sorting queue .exe\"* on Acq desktop"
   ]
  },
  {
   "cell_type": "code",
   "execution_count": null,
   "metadata": {},
   "outputs": [],
   "source": [
    "if hab:\n",
    "    np_jobs.PipelineQCQueue().add_or_update(session, priority=99)\n",
    "else:\n",
    "    np_jobs.PipelineNpexpUploadQueue().add_or_update(session, hostname=np_config.Rig().Acq, priority=99)"
   ]
  },
  {
   "cell_type": "code",
   "execution_count": null,
   "metadata": {},
   "outputs": [],
   "source": []
  }
 ],
 "metadata": {
  "kernelspec": {
   "display_name": "Python 3 (ipykernel)",
   "language": "python",
   "name": "python3"
  },
  "language_info": {
   "codemirror_mode": {
    "name": "ipython",
    "version": 3
   },
   "file_extension": ".py",
   "mimetype": "text/x-python",
   "name": "python",
   "nbconvert_exporter": "python",
   "pygments_lexer": "ipython3",
   "version": "3.11.3"
  },
  "toc-autonumbering": true,
  "vscode": {
   "interpreter": {
    "hash": "75a294dbf81199b26941ed5b32867c59e8bcc1170a51aebad9d5a69e8ca694a9"
   }
  }
 },
 "nbformat": 4,
 "nbformat_minor": 4
}
