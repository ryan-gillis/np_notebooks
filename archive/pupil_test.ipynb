{
 "cells": [
  {
   "attachments": {},
   "cell_type": "markdown",
   "metadata": {},
   "source": [
    "# *Dynamic Routing*\n",
    "<img src=\"https://www.kvc.org/wp-content/uploads/2015/08/brain-600px-600x372.jpg\" width=\"320\" />"
   ]
  },
  {
   "cell_type": "markdown",
   "metadata": {},
   "source": [
    "## Run the update/reset shortcut on the desktop before each experiment\n",
    "***\n",
    "***\n",
    "# **Without mouse on stage**"
   ]
  },
  {
   "cell_type": "code",
   "execution_count": 1,
   "metadata": {},
   "outputs": [
    {
     "name": "stderr",
     "output_type": "stream",
     "text": [
      "Failed to enable remote-to-remote symlink creation: try running as admin\n"
     ]
    },
    {
     "data": {
      "application/vnd.jupyter.widget-view+json": {
       "model_id": "534fa20b38e04fb09738cd7de3915e10",
       "version_major": 2,
       "version_minor": 0
      },
      "text/plain": [
       "VBox(children=(Label(value='Elapsed time: 00h 00m 00s'), Label(value='Remember to restart JupyterLab and run u…"
      ]
     },
     "metadata": {},
     "output_type": "display_data"
    }
   ],
   "source": [
    "import pathlib\n",
    "\n",
    "import IPython\n",
    "import ipywidgets as widgets\n",
    "\n",
    "import np_logging\n",
    "import np_session\n",
    "import np_services\n",
    "import np_workflows\n",
    "from np_workflows import npxc\n",
    "import np_workflows.experiments.dynamic_routing as DR\n",
    "import npc_shields\n",
    "\n",
    "from np_services.resources.zro import ZroError \n",
    "import contextlib\n",
    "\n",
    "np_logging.getLogger()\n",
    "\n",
    "np_workflows.elapsed_time_widget()"
   ]
  },
  {
   "attachments": {},
   "cell_type": "markdown",
   "metadata": {},
   "source": [
    "***\n",
    "## Quiet mode\n",
    "on  \n",
    "*default*\n",
    "- exception details are hidden\n",
    "- regular messages displayed (log level = INFO)\n",
    "\n",
    "off\n",
    "- full exception details with traceback\n",
    "- extra messages displayed (log level = DEBUG)"
   ]
  },
  {
   "cell_type": "code",
   "execution_count": 2,
   "metadata": {},
   "outputs": [
    {
     "data": {
      "application/vnd.jupyter.widget-view+json": {
       "model_id": "cb3a1c17cd6442a5af927b35bb3e7ae3",
       "version_major": 2,
       "version_minor": 0
      },
      "text/plain": [
       "ToggleButton(value=True, button_style='info', description='Quiet mode is on', icon='check', tooltip='Quiet mod…"
      ]
     },
     "metadata": {},
     "output_type": "display_data"
    }
   ],
   "source": [
    "np_workflows.quiet_mode_widget()"
   ]
  },
  {
   "cell_type": "markdown",
   "metadata": {},
   "source": [
    "***\n",
    "## Launch apps via RSC\n",
    "[optional]"
   ]
  },
  {
   "cell_type": "code",
   "execution_count": 3,
   "metadata": {},
   "outputs": [],
   "source": [
    "import contextlib\n",
    "with contextlib.suppress(Exception):\n",
    "    np_services.start_rsc_apps()"
   ]
  },
  {
   "cell_type": "markdown",
   "metadata": {},
   "source": [
    "***\n",
    "## Select mouse and user"
   ]
  },
  {
   "cell_type": "code",
   "execution_count": 4,
   "metadata": {},
   "outputs": [
    {
     "data": {
      "application/vnd.jupyter.widget-view+json": {
       "model_id": "6b65457aae2e440d956ace02ff02c849",
       "version_major": 2,
       "version_minor": 0
      },
      "text/plain": [
       "VBox(children=(Select(description='User:', options=('corbettb', 'ethan.mcbride', 'hannah.cabasco', 'jackie.kuy…"
      ]
     },
     "metadata": {},
     "output_type": "display_data"
    }
   ],
   "source": [
    "user, mouse = np_workflows.user_and_mouse_widget()"
   ]
  },
  {
   "cell_type": "markdown",
   "metadata": {},
   "source": [
    "***\n",
    "## Select HAB"
   ]
  },
  {
   "cell_type": "code",
   "execution_count": 5,
   "metadata": {
    "tags": []
   },
   "outputs": [
    {
     "data": {
      "application/vnd.jupyter.widget-view+json": {
       "model_id": "66517ad558f14d8a88fff31602d02805",
       "version_major": 2,
       "version_minor": 0
      },
      "text/plain": [
       "VBox(children=(HBox(children=(Select(description='Workflow', options=('PRETEST', 'HAB', 'EPHYS', 'OPTO'), valu…"
      ]
     },
     "metadata": {},
     "output_type": "display_data"
    }
   ],
   "source": [
    "selection = DR.workflow_select_widget(mouse)"
   ]
  },
  {
   "cell_type": "markdown",
   "metadata": {},
   "source": [
    "***\n",
    "## Generate new session\n",
    "Re-run this cell if workflow is changed above.\n",
    "\n",
    "Check mouse ID and session are correct: this cell will lock them in!"
   ]
  },
  {
   "cell_type": "code",
   "execution_count": 6,
   "metadata": {
    "tags": []
   },
   "outputs": [
    {
     "name": "stdout",
     "output_type": "stream",
     "text": [
      "15:12 | np_workflows.shared.base_experiments | INFO | Hab(DRpilot_708019_20240322) created\n",
      "15:12 | web | INFO | Hab(DRpilot_708019_20240322) created\n"
     ]
    }
   ],
   "source": [
    "experiment: np_workflows.DynamicRoutingExperiment = DR.new_experiment(mouse, user, selection.workflow)\n",
    "session: np_session.Session = experiment.session"
   ]
  },
  {
   "cell_type": "markdown",
   "metadata": {},
   "source": [
    "***\n",
    "## Set task\n",
    "- select a preset task variant\n",
    "- modify in the text box as needed (right) - hit enter to apply"
   ]
  },
  {
   "cell_type": "markdown",
   "metadata": {},
   "source": [
    "Double-check task until we have confidence in the new widget!"
   ]
  },
  {
   "cell_type": "code",
   "execution_count": 7,
   "metadata": {},
   "outputs": [
    {
     "name": "stdout",
     "output_type": "stream",
     "text": [
      "task_name = 'pupil test' doesn't correspond to a preset value, but the attribute is updated anyway!\n"
     ]
    }
   ],
   "source": [
    "experiment.use_github = False\n",
    "experiment.task_name = \"pupil test\""
   ]
  },
  {
   "cell_type": "code",
   "execution_count": 8,
   "metadata": {},
   "outputs": [
    {
     "ename": "NameError",
     "evalue": "name 'self' is not defined",
     "output_type": "error",
     "traceback": [
      "\u001b[1;31mNameError\u001b[0m\u001b[1;31m:\u001b[0m name 'self' is not defined\n"
     ]
    }
   ],
   "source": [
    "import functools\n",
    "run_pupil_test = functools.partial(experiment.run_script, \"pupil test\")\n",
    "experiment.pupil_test_params = {'taskScript': 'TaskControl.py', 'subjectName': str(experiment.mouse), 'rigName': str(self.rig).replace('.',''), 'taskVersion':'pupil test'}"
   ]
  },
  {
   "cell_type": "markdown",
   "metadata": {
    "tags": []
   },
   "source": [
    "***\n",
    "## Setup, test, reset all components\n",
    "*This cell must not be skipped!*"
   ]
  },
  {
   "cell_type": "code",
   "execution_count": 9,
   "metadata": {},
   "outputs": [
    {
     "name": "stdout",
     "output_type": "stream",
     "text": [
      "15:12 | np_services.utils | INFO | mousedirector is running on W10DTM714204\n",
      "15:12 | np_services.proxies | INFO | Proxy(MouseDirector) initialized: ready for use\n",
      "15:12 | np_services.utils | INFO | sync_device is running on W10DTSM118309\n",
      "15:12 | np_services.proxies | INFO | Proxy(Sync) initialized: ready for use\n",
      "15:12 | np_services.proxies | INFO | VideoMVR initialized: ready for use\n",
      "15:13 | np_services.proxies | INFO | ImageMVR initialized: ready for use\n",
      "15:13 | np_services.proxies | INFO | NewScaleCoordinateRecorder | Test passed\n",
      "15:13 | np_services.proxies | INFO | NewScaleCoordinateRecorder | Test passed\n",
      "15:13 | np_services.utils | INFO | camstim_agent is running on W10DT713941\n",
      "15:13 | np_services.utils | INFO | phidget_server is running on W10DT713941\n",
      "15:13 | np_services.proxies | INFO | Proxy(ScriptCamstim) initialized: ready for use\n"
     ]
    }
   ],
   "source": [
    "assert experiment.task_name, \"task name has not been set - assign manually in cell above\"\n",
    "experiment.initialize_and_test_services()"
   ]
  },
  {
   "cell_type": "markdown",
   "metadata": {},
   "source": [
    "***\n",
    "## Start devices recording"
   ]
  },
  {
   "cell_type": "code",
   "execution_count": 10,
   "metadata": {
    "tags": []
   },
   "outputs": [
    {
     "name": "stdout",
     "output_type": "stream",
     "text": [
      "15:16 | np_services.proxies | INFO | Sync | Starting recording\n",
      "15:17 | np_services.proxies | INFO | Sync | Verified: file on disk is increasing in size\n",
      "15:17 | np_services.proxies | INFO | VideoMVR | Starting recording\n",
      "15:17 | np_services.proxies | INFO | VideoMVR | Verified: 3 cameras recording to disk\n"
     ]
    }
   ],
   "source": [
    "experiment.start_recording()"
   ]
  },
  {
   "cell_type": "code",
   "execution_count": 11,
   "metadata": {},
   "outputs": [
    {
     "ename": "AttributeError",
     "evalue": "'Hab' object has no attribute 'pupil_test_params'",
     "output_type": "error",
     "traceback": [
      "\u001b[1;31mAttributeError\u001b[0m\u001b[1;31m:\u001b[0m 'Hab' object has no attribute 'pupil_test_params'\n"
     ]
    }
   ],
   "source": [
    "run_pupil_test()"
   ]
  },
  {
   "cell_type": "markdown",
   "metadata": {},
   "source": [
    "***\n",
    "## Stop recording"
   ]
  },
  {
   "cell_type": "code",
   "execution_count": 12,
   "metadata": {},
   "outputs": [
    {
     "name": "stdout",
     "output_type": "stream",
     "text": [
      "15:19 | np_workflows.shared.base_experiments | WARNING | Waiting additional 4 s for MVR to finish writing...\n",
      "15:19 | np_services.proxies | INFO | VideoMVR | Stopped recording\n",
      "15:19 | np_services.proxies | INFO | Sync | Stopped recording\n"
     ]
    }
   ],
   "source": [
    "experiment.stop_recording_after_stim_finished()"
   ]
  },
  {
   "cell_type": "markdown",
   "metadata": {},
   "source": [
    "***"
   ]
  },
  {
   "cell_type": "markdown",
   "metadata": {},
   "source": [
    "## Finalize"
   ]
  },
  {
   "cell_type": "code",
   "execution_count": null,
   "metadata": {},
   "outputs": [],
   "source": [
    "experiment.finalize_services(*experiment.recorders, *experiment.stims)\n",
    "experiment.validate_services(*experiment.recorders, *experiment.stims)"
   ]
  },
  {
   "cell_type": "markdown",
   "metadata": {},
   "source": [
    "## Copy data"
   ]
  },
  {
   "cell_type": "markdown",
   "metadata": {},
   "source": [
    "### copy all raw dataexcept ephys to /allen "
   ]
  },
  {
   "cell_type": "code",
   "execution_count": null,
   "metadata": {},
   "outputs": [],
   "source": [
    "experiment.copy_data_files()"
   ]
  },
  {
   "cell_type": "markdown",
   "metadata": {},
   "source": [
    "### run and save QC notebook in current working directory "
   ]
  },
  {
   "cell_type": "code",
   "execution_count": null,
   "metadata": {},
   "outputs": [],
   "source": [
    "with contextlib.suppress(Exception):\n",
    "    import npc_sessions\n",
    "    npc_sessions.write_qc_notebook(\n",
    "        session_path_or_id=experiment.session.npexp_path.as_posix(),\n",
    "        save_path=pathlib.Path.cwd(),\n",
    "        ephys_record_node_dirs=tuple(\n",
    "            next(path.glob('Record Node*')).as_posix()\n",
    "            for path in np_services.OpenEphys.data_files\n",
    "            if experiment.session.folder in path.name\n",
    "            and 'surface' not in path.name\n",
    "        ),\n",
    "    )"
   ]
  },
  {
   "cell_type": "code",
   "execution_count": null,
   "metadata": {},
   "outputs": [],
   "source": [
    "import np_jobs\n",
    "experiment.copy_workflow_files()\n",
    "experiment.copy_mpe_configs()\n",
    "# np_jobs.PipelineQCQueue().add_or_update(session, priority=99)\n",
    "# experiment.copy_ephys()"
   ]
  },
  {
   "cell_type": "markdown",
   "metadata": {},
   "source": [
    "## Manually move ephys data to workgroups folder (with checksum verification)\n",
    "\n",
    "### Drag and drop with right-click, and choose `TeraMove here`\n",
    "\n",
    "For folders in A: and B: drives:\n",
    "\n",
    "- main ephys recording into session folder:    \n",
    "    `A:\\<sessionID>` -> `\\\\allen\\programs\\mindscope\\workgroups\\dynamicrouting\\PilotEphys\\Task 2 pilot\\<sessionID>`\n",
    "    \n",
    "- surface channels recording into the folder above:\n",
    "    `A:\\<sessionID>_surface_channels` -> `\\\\allen\\programs\\mindscope\\workgroups\\dynamicrouting\\PilotEphys\\Task 2 pilot`\n",
    "    \n",
    "Ensure `verify` is checked"
   ]
  }
 ],
 "metadata": {
  "kernelspec": {
   "display_name": "Python 3 (ipykernel)",
   "language": "python",
   "name": "python3"
  },
  "language_info": {
   "codemirror_mode": {
    "name": "ipython",
    "version": 3
   },
   "file_extension": ".py",
   "mimetype": "text/x-python",
   "name": "python",
   "nbconvert_exporter": "python",
   "pygments_lexer": "ipython3",
   "version": "3.11.2"
  },
  "toc-autonumbering": true,
  "vscode": {
   "interpreter": {
    "hash": "75a294dbf81199b26941ed5b32867c59e8bcc1170a51aebad9d5a69e8ca694a9"
   }
  },
  "widgets": {
   "application/vnd.jupyter.widget-state+json": {
    "state": {
     "0ac1275f04cf4978b4a2eed4993b6003": {
      "model_module": "@jupyter-widgets/controls",
      "model_module_version": "2.0.0",
      "model_name": "LabelModel",
      "state": {
       "layout": "IPY_MODEL_b5b1582c887f483ab28abb6d03344cf2",
       "style": "IPY_MODEL_cb6736ea204149d69cdd0340440d4822",
       "value": "Elapsed time: 00h 14m 18s"
      }
     },
     "1db7e3cbd45f415eb473c36cbf19e92c": {
      "model_module": "@jupyter-widgets/controls",
      "model_module_version": "2.0.0",
      "model_name": "SelectModel",
      "state": {
       "_options_labels": [
        "PRETEST",
        "HAB",
        "EPHYS",
        "OPTO"
       ],
       "description": "Workflow",
       "index": 1,
       "layout": "IPY_MODEL_3bb5713a31934a61ba24c7e27a482f56",
       "style": "IPY_MODEL_2af68f12c57441f193a6fcc64f4a8c23"
      }
     },
     "1eca3c632e5d43759741f6dac8e2ffa4": {
      "model_module": "@jupyter-widgets/controls",
      "model_module_version": "2.0.0",
      "model_name": "DescriptionStyleModel",
      "state": {
       "description_width": ""
      }
     },
     "2390c2384dbb4228bd5ba9df707cdd18": {
      "model_module": "@jupyter-widgets/base",
      "model_module_version": "2.0.0",
      "model_name": "LayoutModel",
      "state": {}
     },
     "276b8221b50f445fa598afb42a0bfcac": {
      "model_module": "@jupyter-widgets/base",
      "model_module_version": "2.0.0",
      "model_name": "LayoutModel",
      "state": {}
     },
     "2a60116557474186a7b3d20141556f02": {
      "model_module": "@jupyter-widgets/controls",
      "model_module_version": "2.0.0",
      "model_name": "TextModel",
      "state": {
       "description": "Mouse:",
       "layout": "IPY_MODEL_cea7647f96434806b010f9f5b678b41a",
       "style": "IPY_MODEL_509fadb2c72f49299dcfc45e48ce5c49",
       "value": "708019"
      }
     },
     "2af68f12c57441f193a6fcc64f4a8c23": {
      "model_module": "@jupyter-widgets/controls",
      "model_module_version": "2.0.0",
      "model_name": "DescriptionStyleModel",
      "state": {
       "description_width": ""
      }
     },
     "381ae5dcad6f49538fc6363a82c1297c": {
      "model_module": "@jupyter-widgets/controls",
      "model_module_version": "2.0.0",
      "model_name": "SelectModel",
      "state": {
       "_options_labels": [
        "test EPHYS",
        "EPHYS minus probes",
        "opto in task optional",
        "opto in task, no ephys"
       ],
       "disabled": true,
       "index": null,
       "layout": "IPY_MODEL_8a26d811eb414911a50d22d991705a8b",
       "style": "IPY_MODEL_433816c2b2d34d54b5422983e1d878af"
      }
     },
     "3bb5713a31934a61ba24c7e27a482f56": {
      "model_module": "@jupyter-widgets/base",
      "model_module_version": "2.0.0",
      "model_name": "LayoutModel",
      "state": {}
     },
     "433816c2b2d34d54b5422983e1d878af": {
      "model_module": "@jupyter-widgets/controls",
      "model_module_version": "2.0.0",
      "model_name": "DescriptionStyleModel",
      "state": {
       "description_width": ""
      }
     },
     "4e264a56b5ff4715a04e8bb9ce70e415": {
      "model_module": "@jupyter-widgets/base",
      "model_module_version": "2.0.0",
      "model_name": "LayoutModel",
      "state": {}
     },
     "509fadb2c72f49299dcfc45e48ce5c49": {
      "model_module": "@jupyter-widgets/controls",
      "model_module_version": "2.0.0",
      "model_name": "TextStyleModel",
      "state": {
       "description_width": "",
       "font_size": null,
       "text_color": null
      }
     },
     "534fa20b38e04fb09738cd7de3915e10": {
      "model_module": "@jupyter-widgets/controls",
      "model_module_version": "2.0.0",
      "model_name": "VBoxModel",
      "state": {
       "children": [
        "IPY_MODEL_0ac1275f04cf4978b4a2eed4993b6003",
        "IPY_MODEL_9d9848e88d374faa8e737e527e2b3991"
       ],
       "layout": "IPY_MODEL_276b8221b50f445fa598afb42a0bfcac"
      }
     },
     "5a57ad4799914c96a3663c950b5323ee": {
      "model_module": "@jupyter-widgets/base",
      "model_module_version": "2.0.0",
      "model_name": "LayoutModel",
      "state": {}
     },
     "66517ad558f14d8a88fff31602d02805": {
      "model_module": "@jupyter-widgets/controls",
      "model_module_version": "2.0.0",
      "model_name": "VBoxModel",
      "state": {
       "children": [
        "IPY_MODEL_74bda52168e64f40a16e7b3648c19b4b",
        "IPY_MODEL_f75685818b944729bd3bd6dc6c57b3d1"
       ],
       "layout": "IPY_MODEL_2390c2384dbb4228bd5ba9df707cdd18"
      }
     },
     "6b65457aae2e440d956ace02ff02c849": {
      "model_module": "@jupyter-widgets/controls",
      "model_module_version": "2.0.0",
      "model_name": "VBoxModel",
      "state": {
       "children": [
        "IPY_MODEL_e996e6aaf0844dd98accca1d90929d30",
        "IPY_MODEL_2a60116557474186a7b3d20141556f02",
        "IPY_MODEL_fd6f0a4c26184aa6883c730c871e7d0f"
       ],
       "layout": "IPY_MODEL_5a57ad4799914c96a3663c950b5323ee"
      }
     },
     "74bda52168e64f40a16e7b3648c19b4b": {
      "model_module": "@jupyter-widgets/controls",
      "model_module_version": "2.0.0",
      "model_name": "HBoxModel",
      "state": {
       "children": [
        "IPY_MODEL_1db7e3cbd45f415eb473c36cbf19e92c",
        "IPY_MODEL_381ae5dcad6f49538fc6363a82c1297c"
       ],
       "layout": "IPY_MODEL_bbc978481a294c98a81b0594482a7e86"
      }
     },
     "7e1b16b60bba483f99e9db1c55ed574c": {
      "model_module": "@jupyter-widgets/controls",
      "model_module_version": "2.0.0",
      "model_name": "LabelStyleModel",
      "state": {
       "description_width": "",
       "font_family": null,
       "font_size": null,
       "font_style": null,
       "font_variant": null,
       "font_weight": null,
       "text_color": null,
       "text_decoration": null
      }
     },
     "8a26d811eb414911a50d22d991705a8b": {
      "model_module": "@jupyter-widgets/base",
      "model_module_version": "2.0.0",
      "model_name": "LayoutModel",
      "state": {}
     },
     "9d9848e88d374faa8e737e527e2b3991": {
      "model_module": "@jupyter-widgets/controls",
      "model_module_version": "2.0.0",
      "model_name": "LabelModel",
      "state": {
       "layout": "IPY_MODEL_4e264a56b5ff4715a04e8bb9ce70e415",
       "style": "IPY_MODEL_7e1b16b60bba483f99e9db1c55ed574c",
       "value": "Remember to restart JupyterLab and run update.bat before every experiment!"
      }
     },
     "b5b1582c887f483ab28abb6d03344cf2": {
      "model_module": "@jupyter-widgets/base",
      "model_module_version": "2.0.0",
      "model_name": "LayoutModel",
      "state": {}
     },
     "bbc978481a294c98a81b0594482a7e86": {
      "model_module": "@jupyter-widgets/base",
      "model_module_version": "2.0.0",
      "model_name": "LayoutModel",
      "state": {}
     },
     "cb3a1c17cd6442a5af927b35bb3e7ae3": {
      "model_module": "@jupyter-widgets/controls",
      "model_module_version": "2.0.0",
      "model_name": "ToggleButtonModel",
      "state": {
       "button_style": "info",
       "description": "Quiet mode is on",
       "icon": "check",
       "layout": "IPY_MODEL_e8c64189c1914c82a0ed223ec64c1e12",
       "style": "IPY_MODEL_eb499f7bfbe0418ba25e2bb5d76cc54b",
       "tooltip": "Quiet mode: tracebacks hidden, logging level set to INFO.",
       "value": true
      }
     },
     "cb6736ea204149d69cdd0340440d4822": {
      "model_module": "@jupyter-widgets/controls",
      "model_module_version": "2.0.0",
      "model_name": "LabelStyleModel",
      "state": {
       "description_width": "",
       "font_family": null,
       "font_size": null,
       "font_style": null,
       "font_variant": null,
       "font_weight": null,
       "text_color": null,
       "text_decoration": null
      }
     },
     "cea7647f96434806b010f9f5b678b41a": {
      "model_module": "@jupyter-widgets/base",
      "model_module_version": "2.0.0",
      "model_name": "LayoutModel",
      "state": {}
     },
     "d0043168dd1545e8bc45adb4816b5f5d": {
      "model_module": "@jupyter-widgets/base",
      "model_module_version": "2.0.0",
      "model_name": "LayoutModel",
      "state": {}
     },
     "d2a5f6ed95124ab2b840559bbe7079e2": {
      "model_module": "@jupyter-widgets/base",
      "model_module_version": "2.0.0",
      "model_name": "LayoutModel",
      "state": {}
     },
     "e8c64189c1914c82a0ed223ec64c1e12": {
      "model_module": "@jupyter-widgets/base",
      "model_module_version": "2.0.0",
      "model_name": "LayoutModel",
      "state": {}
     },
     "e996e6aaf0844dd98accca1d90929d30": {
      "model_module": "@jupyter-widgets/controls",
      "model_module_version": "2.0.0",
      "model_name": "SelectModel",
      "state": {
       "_options_labels": [
        "corbettb",
        "ethan.mcbride",
        "hannah.cabasco",
        "jackie.kuyat",
        "samg",
        "vayle.lafehr"
       ],
       "description": "User:",
       "index": 5,
       "layout": "IPY_MODEL_d2a5f6ed95124ab2b840559bbe7079e2",
       "style": "IPY_MODEL_1eca3c632e5d43759741f6dac8e2ffa4"
      }
     },
     "eb499f7bfbe0418ba25e2bb5d76cc54b": {
      "model_module": "@jupyter-widgets/controls",
      "model_module_version": "2.0.0",
      "model_name": "ToggleButtonStyleModel",
      "state": {
       "description_width": "",
       "font_family": null,
       "font_size": null,
       "font_style": null,
       "font_variant": null,
       "font_weight": null,
       "text_color": null,
       "text_decoration": null
      }
     },
     "f3226a6a72c040189ea2f45168ebfef5": {
      "model_module": "@jupyter-widgets/base",
      "model_module_version": "2.0.0",
      "model_name": "LayoutModel",
      "state": {}
     },
     "f75685818b944729bd3bd6dc6c57b3d1": {
      "model_module": "@jupyter-widgets/output",
      "model_module_version": "1.0.0",
      "model_name": "OutputModel",
      "state": {
       "layout": "IPY_MODEL_d0043168dd1545e8bc45adb4816b5f5d",
       "outputs": [
        {
         "name": "stdout",
         "output_type": "stream",
         "text": "Selected: PRETEST\nSelected: Workflow.HAB\nSelected: Workflow.PRETEST\nSelected: Workflow.HAB\n"
        }
       ]
      }
     },
     "fd6f0a4c26184aa6883c730c871e7d0f": {
      "model_module": "@jupyter-widgets/output",
      "model_module_version": "1.0.0",
      "model_name": "OutputModel",
      "state": {
       "layout": "IPY_MODEL_f3226a6a72c040189ea2f45168ebfef5",
       "outputs": [
        {
         "name": "stdout",
         "output_type": "stream",
         "text": "User updated: vayle.lafehr\nMouse updated: 708019\n"
        }
       ]
      }
     }
    },
    "version_major": 2,
    "version_minor": 0
   }
  }
 },
 "nbformat": 4,
 "nbformat_minor": 4
}
