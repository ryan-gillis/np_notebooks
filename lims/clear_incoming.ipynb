{
 "cells": [
  {
   "cell_type": "code",
   "execution_count": 1,
   "metadata": {},
   "outputs": [],
   "source": [
    "import contextlib\n",
    "import pathlib\n",
    "\n",
    "import np_config\n",
    "import np_session\n",
    "\n",
    "INCOMING_ROOT = pathlib.Path(\n",
    "    \"//allen/programs/mindscope/production/incoming\"\n",
    ")\n",
    "assert INCOMING_ROOT.exists()\n",
    "\n",
    "DRYRUN = False"
   ]
  },
  {
   "cell_type": "code",
   "execution_count": 2,
   "metadata": {},
   "outputs": [],
   "source": [
    "def size(path: pathlib.Path) -> int:\n",
    "    return sum(\n",
    "        f.stat().st_size\n",
    "        for f in path.rglob('*')\n",
    "        if f.is_file()\n",
    "    ) if path.is_dir() else path.stat().st_size\n",
    "    \n",
    "def sizes_match(p1, p2):\n",
    "    return size(p1) == size(p2)\n",
    "\n",
    "def unlink(path):\n",
    "    if DRYRUN:\n",
    "        return\n",
    "    if path.is_dir():\n",
    "        while path.exists():\n",
    "            for _ in path.iterdir():\n",
    "                with contextlib.suppress(OSError):\n",
    "                    unlink(_)\n",
    "            path.rmdir()\n",
    "    else:\n",
    "        path.unlink()"
   ]
  },
  {
   "cell_type": "markdown",
   "metadata": {},
   "source": [
    "Delete raw ephys data that's already on lims (judging by file size):"
   ]
  },
  {
   "cell_type": "code",
   "execution_count": 3,
   "metadata": {},
   "outputs": [],
   "source": [
    "total_bytes = 0  \n",
    "for incoming_path in INCOMING_ROOT.iterdir():\n",
    "    \n",
    "    try:\n",
    "        session = np_session.PipelineSession(incoming_path)\n",
    "    except np_session.SessionError:\n",
    "        continue\n",
    "    \n",
    "    if not session.lims_path:\n",
    "        continue\n",
    "    \n",
    "    if (\n",
    "        (existing := (session.lims_path / incoming_path.name)).exists()\n",
    "    ):\n",
    "        for incoming_file in incoming_path.rglob('*'):\n",
    "            if (\n",
    "                (existing_file := existing / incoming_file.relative_to(incoming_path)).exists()\n",
    "                and sizes_match(incoming_file, existing_file)\n",
    "            ):\n",
    "                total_bytes += size(incoming_file)\n",
    "                unlink(incoming_file)\n",
    "                print(f\"Cleared {total_bytes/1024**3:,.0f} GB\\r\", end='')"
   ]
  },
  {
   "cell_type": "markdown",
   "metadata": {},
   "source": [
    "Delete sorted probe data that's already on lims (judging by file size and\n",
    "last-modified time, in case multiple probe uploads have been made):"
   ]
  },
  {
   "cell_type": "code",
   "execution_count": null,
   "metadata": {},
   "outputs": [],
   "source": [
    "total_bytes = 0  \n",
    "for probe in 'ABCDEF':\n",
    "    for probe_folder in INCOMING_ROOT.glob(f'*probe{probe}_sorted'):\n",
    "        \n",
    "        try:\n",
    "            session = np_session.Session(probe_folder)\n",
    "        except np_session.SessionError:\n",
    "            continue\n",
    "        \n",
    "        if f'ephys_raw_data_probe_{probe.upper()}_sorted' not in session.platform_json.files:\n",
    "            # probe not inserted and will never be uploaded\n",
    "            total_bytes += size(probe_folder)\n",
    "            unlink(probe_folder)\n",
    "            print(f\"Cleared {total_bytes/1024**3:,.0f} GB\\r\", end='')\n",
    "            continue\n",
    "        \n",
    "        if not session.lims_path:\n",
    "            continue\n",
    "        \n",
    "        for incoming_path in probe_folder.rglob('*'):\n",
    "            if incoming_path.is_dir():\n",
    "                continue\n",
    "            if (existing := tuple(session.lims_path.rglob(f'*/*_probe{probe}/{incoming_path.relative_to(probe_folder)}') )):\n",
    "                for lims_path in existing:\n",
    "                    if sizes_match(lims_path, incoming_path) and lims_path.stat().st_mtime == incoming_path.stat().st_mtime:\n",
    "                        total_bytes += size(incoming_path)\n",
    "                        unlink(incoming_path)\n",
    "                        print(f\"Cleared {total_bytes/1024**3:,.0f} GB\\r\", end='')\n",
    "                        break\n",
    "                        "
   ]
  },
  {
   "cell_type": "code",
   "execution_count": null,
   "metadata": {},
   "outputs": [],
   "source": []
  }
 ],
 "metadata": {
  "kernelspec": {
   "display_name": "Python 3.11.1 ('.venv': poetry)",
   "language": "python",
   "name": "python3"
  },
  "language_info": {
   "codemirror_mode": {
    "name": "ipython",
    "version": 3
   },
   "file_extension": ".py",
   "mimetype": "text/x-python",
   "name": "python",
   "nbconvert_exporter": "python",
   "pygments_lexer": "ipython3",
   "version": "3.11.3"
  },
  "orig_nbformat": 4,
  "vscode": {
   "interpreter": {
    "hash": "75a294dbf81199b26941ed5b32867c59e8bcc1170a51aebad9d5a69e8ca694a9"
   }
  }
 },
 "nbformat": 4,
 "nbformat_minor": 2
}
