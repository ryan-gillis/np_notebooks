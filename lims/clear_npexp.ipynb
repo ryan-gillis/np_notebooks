{
 "cells": [
  {
   "cell_type": "markdown",
   "metadata": {},
   "source": [
    "# Clear raw and sorted .dat files on np-exp based on filesize comparison alone\n",
    "\n",
    "Assumes that transfers to lims have been performed with checksum validation at\n",
    "every stage.\n",
    "\n",
    "Does not touch npx2 files - some of which pre-date checksum validated transfers,\n",
    "and some are known to have bad copies"
   ]
  },
  {
   "cell_type": "code",
   "execution_count": 1,
   "metadata": {},
   "outputs": [],
   "source": [
    "import contextlib\n",
    "import pathlib\n",
    "\n",
    "import np_config\n",
    "import np_session\n",
    "\n",
    "NPEXP_ROOT = pathlib.Path(\n",
    "    \"//allen/programs/mindscope/workgroups/np-exp\"\n",
    ")\n",
    "assert NPEXP_ROOT.exists()\n",
    "\n",
    "DRYRUN = False\n",
    "unlinked_paths = []\n",
    "\n",
    "def size(path: pathlib.Path) -> int:\n",
    "    return sum(\n",
    "        f.stat().st_size\n",
    "        for f in path.rglob('*')\n",
    "        if f.is_file()\n",
    "    ) if path.is_dir() else path.stat().st_size\n",
    "    \n",
    "def sizes_match(p1, p2):\n",
    "    return size(p1) == size(p2)\n",
    "\n",
    "def probe_qc_exists(session: np_session.Session) -> bool:\n",
    "    qc = session.npexp_path / 'qc'\n",
    "    if not qc.exists():\n",
    "        return False\n",
    "    return any(f for f in qc.iterdir() if f.name.startswith('probe'))\n",
    "\n",
    "def unlink(path):\n",
    "    if DRYRUN:\n",
    "        unlinked_paths.append(path)\n",
    "        return\n",
    "    if path.is_dir():\n",
    "        while path.exists():\n",
    "            for _ in path.iterdir():\n",
    "                with contextlib.suppress(OSError):\n",
    "                    unlink(_)\n",
    "                    unlinked_paths.append(path)\n",
    "            path.rmdir()\n",
    "    else:\n",
    "        path.unlink()\n",
    "        unlinked_paths.append(path)"
   ]
  },
  {
   "cell_type": "markdown",
   "metadata": {},
   "source": [
    "Delete sorted probe data that's already on lims (judging by file size and\n",
    "last-modified time, in case multiple probe uploads have been made):"
   ]
  },
  {
   "cell_type": "code",
   "execution_count": 2,
   "metadata": {},
   "outputs": [
    {
     "name": "stdout",
     "output_type": "stream",
     "text": [
      "Cleared 741 GB\r"
     ]
    },
    {
     "name": "stderr",
     "output_type": "stream",
     "text": [
      "Mismatch between session folder strings - file may be in the wrong folder: '\\\\\\\\allen\\\\programs\\\\mindscope\\\\workgroups\\\\np-exp\\\\1170937835_604910_20220415\\\\1170937835_366122_20220415_probeA_sorted'\n",
      "Mismatch between session folder strings - file may be in the wrong folder: '\\\\\\\\allen\\\\programs\\\\mindscope\\\\workgroups\\\\np-exp\\\\1170937835_604910_20220415\\\\1170937835_366122_20220415_probeA_sorted'\n"
     ]
    },
    {
     "name": "stdout",
     "output_type": "stream",
     "text": [
      "Cleared 1,481 GB\r"
     ]
    },
    {
     "name": "stderr",
     "output_type": "stream",
     "text": [
      "Mismatch between session folder strings - file may be in the wrong folder: '\\\\\\\\allen\\\\programs\\\\mindscope\\\\workgroups\\\\np-exp\\\\1170937835_604910_20220415\\\\1170937835_366122_20220415_probeB_sorted'\n",
      "Mismatch between session folder strings - file may be in the wrong folder: '\\\\\\\\allen\\\\programs\\\\mindscope\\\\workgroups\\\\np-exp\\\\1170937835_604910_20220415\\\\1170937835_366122_20220415_probeB_sorted'\n"
     ]
    },
    {
     "name": "stdout",
     "output_type": "stream",
     "text": [
      "Cleared 2,222 GB\r"
     ]
    },
    {
     "name": "stderr",
     "output_type": "stream",
     "text": [
      "Mismatch between session folder strings - file may be in the wrong folder: '\\\\\\\\allen\\\\programs\\\\mindscope\\\\workgroups\\\\np-exp\\\\1170937835_604910_20220415\\\\1170937835_366122_20220415_probeC_sorted'\n",
      "Mismatch between session folder strings - file may be in the wrong folder: '\\\\\\\\allen\\\\programs\\\\mindscope\\\\workgroups\\\\np-exp\\\\1170937835_604910_20220415\\\\1170937835_366122_20220415_probeC_sorted'\n"
     ]
    },
    {
     "name": "stdout",
     "output_type": "stream",
     "text": [
      "Cleared 2,963 GB\r"
     ]
    },
    {
     "name": "stderr",
     "output_type": "stream",
     "text": [
      "Mismatch between session folder strings - file may be in the wrong folder: '\\\\\\\\allen\\\\programs\\\\mindscope\\\\workgroups\\\\np-exp\\\\1170937835_604910_20220415\\\\1170937835_366122_20220415_probeD_sorted'\n",
      "Mismatch between session folder strings - file may be in the wrong folder: '\\\\\\\\allen\\\\programs\\\\mindscope\\\\workgroups\\\\np-exp\\\\1170937835_604910_20220415\\\\1170937835_366122_20220415_probeD_sorted'\n"
     ]
    },
    {
     "name": "stdout",
     "output_type": "stream",
     "text": [
      "Cleared 3,704 GB\r"
     ]
    },
    {
     "name": "stderr",
     "output_type": "stream",
     "text": [
      "Mismatch between session folder strings - file may be in the wrong folder: '\\\\\\\\allen\\\\programs\\\\mindscope\\\\workgroups\\\\np-exp\\\\1170937835_604910_20220415\\\\1170937835_366122_20220415_probeE_sorted'\n",
      "Mismatch between session folder strings - file may be in the wrong folder: '\\\\\\\\allen\\\\programs\\\\mindscope\\\\workgroups\\\\np-exp\\\\1170937835_604910_20220415\\\\1170937835_366122_20220415_probeE_sorted'\n"
     ]
    },
    {
     "name": "stdout",
     "output_type": "stream",
     "text": [
      "Cleared 4,444 GB\r"
     ]
    },
    {
     "name": "stderr",
     "output_type": "stream",
     "text": [
      "Mismatch between session folder strings - file may be in the wrong folder: '\\\\\\\\allen\\\\programs\\\\mindscope\\\\workgroups\\\\np-exp\\\\1170937835_604910_20220415\\\\1170937835_366122_20220415_probeF_sorted'\n",
      "Mismatch between session folder strings - file may be in the wrong folder: '\\\\\\\\allen\\\\programs\\\\mindscope\\\\workgroups\\\\np-exp\\\\1170937835_604910_20220415\\\\1170937835_366122_20220415_probeF_sorted'\n"
     ]
    }
   ],
   "source": [
    "CHECK_LIMS = False # if True, wait for sorted data to be on lims before deleting from npexp\n",
    "\n",
    "glob_pattern = '*' if CHECK_LIMS else '*.dat'\n",
    "\n",
    "total_bytes = 0  \n",
    "for probe in 'ABCDEF':\n",
    "        \n",
    "    for probe_folder in NPEXP_ROOT.rglob(f'*probe{probe}_sorted'):\n",
    "        try:\n",
    "            session = np_session.Session(probe_folder)\n",
    "        except np_session.SessionError:\n",
    "            continue\n",
    "        \n",
    "        if CHECK_LIMS and not getattr(session, \"lims_path\", None):\n",
    "            continue\n",
    "        \n",
    "        for npexp_path in probe_folder.rglob(glob_pattern):\n",
    "            if npexp_path.is_dir():\n",
    "                continue\n",
    "            \n",
    "            if CHECK_LIMS:\n",
    "                lims_paths = tuple(session.lims_path.rglob(f'*/*_probe{probe}/{npexp_path.relative_to(probe_folder)}') )\n",
    "            \n",
    "            for lims_path in (lims_paths if CHECK_LIMS else (None,)):\n",
    "                if (\n",
    "                    CHECK_LIMS\n",
    "                    and not npexp_path.is_symlink()\n",
    "                    and sizes_match(lims_path, npexp_path) \n",
    "                    and lims_path.stat().st_mtime == npexp_path.stat().st_mtime\n",
    "                    and probe_qc_exists(session)\n",
    "                ) or (\n",
    "                    not CHECK_LIMS\n",
    "                    # and probe_qc_exists(session)    \n",
    "                ):\n",
    "                    total_bytes += size(npexp_path)\n",
    "                    unlink(npexp_path)\n",
    "                    print(f\"Cleared {total_bytes/1024**3:,.0f} GB\\r\", end='')\n",
    "                    break\n",
    "                    "
   ]
  },
  {
   "cell_type": "markdown",
   "metadata": {},
   "source": [
    "Delete raw ephys data that's already on lims (judging by file size):"
   ]
  },
  {
   "cell_type": "code",
   "execution_count": 3,
   "metadata": {},
   "outputs": [
    {
     "data": {
      "text/plain": [
       "[WindowsPath('//allen/programs/mindscope/workgroups/np-exp/1399306644_755830_20241010/1399306644_755830_20241010_probeA_sorted/continuous/Neuropix-PXI-100.0/continuous.dat'),\n",
       " WindowsPath('//allen/programs/mindscope/workgroups/np-exp/1399306644_755830_20241010/1399306644_755830_20241010_probeA_sorted/continuous/Neuropix-PXI-100.0/residuals.dat'),\n",
       " WindowsPath('//allen/programs/mindscope/workgroups/np-exp/1399306644_755830_20241010/1399306644_755830_20241010_probeA_sorted/continuous/Neuropix-PXI-100.1/continuous.dat'),\n",
       " WindowsPath('//allen/programs/mindscope/workgroups/np-exp/1400228285_757088_20241016/1400228285_757088_20241016_probeA_sorted/continuous/Neuropix-PXI-100.0/continuous.dat'),\n",
       " WindowsPath('//allen/programs/mindscope/workgroups/np-exp/1400228285_757088_20241016/1400228285_757088_20241016_probeA_sorted/continuous/Neuropix-PXI-100.0/residuals.dat'),\n",
       " WindowsPath('//allen/programs/mindscope/workgroups/np-exp/1400228285_757088_20241016/1400228285_757088_20241016_probeA_sorted/continuous/Neuropix-PXI-100.1/continuous.dat'),\n",
       " WindowsPath('//allen/programs/mindscope/workgroups/np-exp/1400398822_755828_20241017/1400398822_755828_20241017_probeA_sorted/continuous/Neuropix-PXI-100.0/continuous.dat'),\n",
       " WindowsPath('//allen/programs/mindscope/workgroups/np-exp/1400398822_755828_20241017/1400398822_755828_20241017_probeA_sorted/continuous/Neuropix-PXI-100.0/residuals.dat'),\n",
       " WindowsPath('//allen/programs/mindscope/workgroups/np-exp/1400398822_755828_20241017/1400398822_755828_20241017_probeA_sorted/continuous/Neuropix-PXI-100.1/continuous.dat'),\n",
       " WindowsPath('//allen/programs/mindscope/workgroups/np-exp/1400073392_757089_20241015/1400073392_757089_20241015_probeA_sorted/continuous/Neuropix-PXI-100.0/continuous.dat'),\n",
       " WindowsPath('//allen/programs/mindscope/workgroups/np-exp/1400073392_757089_20241015/1400073392_757089_20241015_probeA_sorted/continuous/Neuropix-PXI-100.0/residuals.dat'),\n",
       " WindowsPath('//allen/programs/mindscope/workgroups/np-exp/1400073392_757089_20241015/1400073392_757089_20241015_probeA_sorted/continuous/Neuropix-PXI-100.1/continuous.dat'),\n",
       " WindowsPath('//allen/programs/mindscope/workgroups/np-exp/1399306644_755830_20241010/1399306644_755830_20241010_probeB_sorted/continuous/Neuropix-PXI-100.0/continuous.dat'),\n",
       " WindowsPath('//allen/programs/mindscope/workgroups/np-exp/1399306644_755830_20241010/1399306644_755830_20241010_probeB_sorted/continuous/Neuropix-PXI-100.0/residuals.dat'),\n",
       " WindowsPath('//allen/programs/mindscope/workgroups/np-exp/1399306644_755830_20241010/1399306644_755830_20241010_probeB_sorted/continuous/Neuropix-PXI-100.1/continuous.dat'),\n",
       " WindowsPath('//allen/programs/mindscope/workgroups/np-exp/1400228285_757088_20241016/1400228285_757088_20241016_probeB_sorted/continuous/Neuropix-PXI-100.0/continuous.dat'),\n",
       " WindowsPath('//allen/programs/mindscope/workgroups/np-exp/1400228285_757088_20241016/1400228285_757088_20241016_probeB_sorted/continuous/Neuropix-PXI-100.0/residuals.dat'),\n",
       " WindowsPath('//allen/programs/mindscope/workgroups/np-exp/1400228285_757088_20241016/1400228285_757088_20241016_probeB_sorted/continuous/Neuropix-PXI-100.1/continuous.dat'),\n",
       " WindowsPath('//allen/programs/mindscope/workgroups/np-exp/1400398822_755828_20241017/1400398822_755828_20241017_probeB_sorted/continuous/Neuropix-PXI-100.0/continuous.dat'),\n",
       " WindowsPath('//allen/programs/mindscope/workgroups/np-exp/1400398822_755828_20241017/1400398822_755828_20241017_probeB_sorted/continuous/Neuropix-PXI-100.0/residuals.dat'),\n",
       " WindowsPath('//allen/programs/mindscope/workgroups/np-exp/1400398822_755828_20241017/1400398822_755828_20241017_probeB_sorted/continuous/Neuropix-PXI-100.1/continuous.dat'),\n",
       " WindowsPath('//allen/programs/mindscope/workgroups/np-exp/1400073392_757089_20241015/1400073392_757089_20241015_probeB_sorted/continuous/Neuropix-PXI-100.0/continuous.dat'),\n",
       " WindowsPath('//allen/programs/mindscope/workgroups/np-exp/1400073392_757089_20241015/1400073392_757089_20241015_probeB_sorted/continuous/Neuropix-PXI-100.0/residuals.dat'),\n",
       " WindowsPath('//allen/programs/mindscope/workgroups/np-exp/1400073392_757089_20241015/1400073392_757089_20241015_probeB_sorted/continuous/Neuropix-PXI-100.1/continuous.dat'),\n",
       " WindowsPath('//allen/programs/mindscope/workgroups/np-exp/1399306644_755830_20241010/1399306644_755830_20241010_probeC_sorted/continuous/Neuropix-PXI-100.0/continuous.dat'),\n",
       " WindowsPath('//allen/programs/mindscope/workgroups/np-exp/1399306644_755830_20241010/1399306644_755830_20241010_probeC_sorted/continuous/Neuropix-PXI-100.0/residuals.dat'),\n",
       " WindowsPath('//allen/programs/mindscope/workgroups/np-exp/1399306644_755830_20241010/1399306644_755830_20241010_probeC_sorted/continuous/Neuropix-PXI-100.1/continuous.dat'),\n",
       " WindowsPath('//allen/programs/mindscope/workgroups/np-exp/1400228285_757088_20241016/1400228285_757088_20241016_probeC_sorted/continuous/Neuropix-PXI-100.0/continuous.dat'),\n",
       " WindowsPath('//allen/programs/mindscope/workgroups/np-exp/1400228285_757088_20241016/1400228285_757088_20241016_probeC_sorted/continuous/Neuropix-PXI-100.0/residuals.dat'),\n",
       " WindowsPath('//allen/programs/mindscope/workgroups/np-exp/1400228285_757088_20241016/1400228285_757088_20241016_probeC_sorted/continuous/Neuropix-PXI-100.1/continuous.dat'),\n",
       " WindowsPath('//allen/programs/mindscope/workgroups/np-exp/1400398822_755828_20241017/1400398822_755828_20241017_probeC_sorted/continuous/Neuropix-PXI-100.0/continuous.dat'),\n",
       " WindowsPath('//allen/programs/mindscope/workgroups/np-exp/1400398822_755828_20241017/1400398822_755828_20241017_probeC_sorted/continuous/Neuropix-PXI-100.0/residuals.dat'),\n",
       " WindowsPath('//allen/programs/mindscope/workgroups/np-exp/1400398822_755828_20241017/1400398822_755828_20241017_probeC_sorted/continuous/Neuropix-PXI-100.1/continuous.dat'),\n",
       " WindowsPath('//allen/programs/mindscope/workgroups/np-exp/1400073392_757089_20241015/1400073392_757089_20241015_probeC_sorted/continuous/Neuropix-PXI-100.0/continuous.dat'),\n",
       " WindowsPath('//allen/programs/mindscope/workgroups/np-exp/1400073392_757089_20241015/1400073392_757089_20241015_probeC_sorted/continuous/Neuropix-PXI-100.0/residuals.dat'),\n",
       " WindowsPath('//allen/programs/mindscope/workgroups/np-exp/1400073392_757089_20241015/1400073392_757089_20241015_probeC_sorted/continuous/Neuropix-PXI-100.1/continuous.dat'),\n",
       " WindowsPath('//allen/programs/mindscope/workgroups/np-exp/1399306644_755830_20241010/1399306644_755830_20241010_probeD_sorted/continuous/Neuropix-PXI-100.0/continuous.dat'),\n",
       " WindowsPath('//allen/programs/mindscope/workgroups/np-exp/1399306644_755830_20241010/1399306644_755830_20241010_probeD_sorted/continuous/Neuropix-PXI-100.0/residuals.dat'),\n",
       " WindowsPath('//allen/programs/mindscope/workgroups/np-exp/1399306644_755830_20241010/1399306644_755830_20241010_probeD_sorted/continuous/Neuropix-PXI-100.1/continuous.dat'),\n",
       " WindowsPath('//allen/programs/mindscope/workgroups/np-exp/1400228285_757088_20241016/1400228285_757088_20241016_probeD_sorted/continuous/Neuropix-PXI-100.0/continuous.dat'),\n",
       " WindowsPath('//allen/programs/mindscope/workgroups/np-exp/1400228285_757088_20241016/1400228285_757088_20241016_probeD_sorted/continuous/Neuropix-PXI-100.0/residuals.dat'),\n",
       " WindowsPath('//allen/programs/mindscope/workgroups/np-exp/1400228285_757088_20241016/1400228285_757088_20241016_probeD_sorted/continuous/Neuropix-PXI-100.1/continuous.dat'),\n",
       " WindowsPath('//allen/programs/mindscope/workgroups/np-exp/1400398822_755828_20241017/1400398822_755828_20241017_probeD_sorted/continuous/Neuropix-PXI-100.0/continuous.dat'),\n",
       " WindowsPath('//allen/programs/mindscope/workgroups/np-exp/1400398822_755828_20241017/1400398822_755828_20241017_probeD_sorted/continuous/Neuropix-PXI-100.0/residuals.dat'),\n",
       " WindowsPath('//allen/programs/mindscope/workgroups/np-exp/1400398822_755828_20241017/1400398822_755828_20241017_probeD_sorted/continuous/Neuropix-PXI-100.1/continuous.dat'),\n",
       " WindowsPath('//allen/programs/mindscope/workgroups/np-exp/1400073392_757089_20241015/1400073392_757089_20241015_probeD_sorted/continuous/Neuropix-PXI-100.0/continuous.dat'),\n",
       " WindowsPath('//allen/programs/mindscope/workgroups/np-exp/1400073392_757089_20241015/1400073392_757089_20241015_probeD_sorted/continuous/Neuropix-PXI-100.0/residuals.dat'),\n",
       " WindowsPath('//allen/programs/mindscope/workgroups/np-exp/1400073392_757089_20241015/1400073392_757089_20241015_probeD_sorted/continuous/Neuropix-PXI-100.1/continuous.dat'),\n",
       " WindowsPath('//allen/programs/mindscope/workgroups/np-exp/1399306644_755830_20241010/1399306644_755830_20241010_probeE_sorted/continuous/Neuropix-PXI-100.0/continuous.dat'),\n",
       " WindowsPath('//allen/programs/mindscope/workgroups/np-exp/1399306644_755830_20241010/1399306644_755830_20241010_probeE_sorted/continuous/Neuropix-PXI-100.0/residuals.dat'),\n",
       " WindowsPath('//allen/programs/mindscope/workgroups/np-exp/1399306644_755830_20241010/1399306644_755830_20241010_probeE_sorted/continuous/Neuropix-PXI-100.1/continuous.dat'),\n",
       " WindowsPath('//allen/programs/mindscope/workgroups/np-exp/1400228285_757088_20241016/1400228285_757088_20241016_probeE_sorted/continuous/Neuropix-PXI-100.0/continuous.dat'),\n",
       " WindowsPath('//allen/programs/mindscope/workgroups/np-exp/1400228285_757088_20241016/1400228285_757088_20241016_probeE_sorted/continuous/Neuropix-PXI-100.0/residuals.dat'),\n",
       " WindowsPath('//allen/programs/mindscope/workgroups/np-exp/1400228285_757088_20241016/1400228285_757088_20241016_probeE_sorted/continuous/Neuropix-PXI-100.1/continuous.dat'),\n",
       " WindowsPath('//allen/programs/mindscope/workgroups/np-exp/1400398822_755828_20241017/1400398822_755828_20241017_probeE_sorted/continuous/Neuropix-PXI-100.0/continuous.dat'),\n",
       " WindowsPath('//allen/programs/mindscope/workgroups/np-exp/1400398822_755828_20241017/1400398822_755828_20241017_probeE_sorted/continuous/Neuropix-PXI-100.0/residuals.dat'),\n",
       " WindowsPath('//allen/programs/mindscope/workgroups/np-exp/1400398822_755828_20241017/1400398822_755828_20241017_probeE_sorted/continuous/Neuropix-PXI-100.1/continuous.dat'),\n",
       " WindowsPath('//allen/programs/mindscope/workgroups/np-exp/1400073392_757089_20241015/1400073392_757089_20241015_probeE_sorted/continuous/Neuropix-PXI-100.0/continuous.dat'),\n",
       " WindowsPath('//allen/programs/mindscope/workgroups/np-exp/1400073392_757089_20241015/1400073392_757089_20241015_probeE_sorted/continuous/Neuropix-PXI-100.0/residuals.dat'),\n",
       " WindowsPath('//allen/programs/mindscope/workgroups/np-exp/1400073392_757089_20241015/1400073392_757089_20241015_probeE_sorted/continuous/Neuropix-PXI-100.1/continuous.dat'),\n",
       " WindowsPath('//allen/programs/mindscope/workgroups/np-exp/1399306644_755830_20241010/1399306644_755830_20241010_probeF_sorted/continuous/Neuropix-PXI-100.0/continuous.dat'),\n",
       " WindowsPath('//allen/programs/mindscope/workgroups/np-exp/1399306644_755830_20241010/1399306644_755830_20241010_probeF_sorted/continuous/Neuropix-PXI-100.0/residuals.dat'),\n",
       " WindowsPath('//allen/programs/mindscope/workgroups/np-exp/1399306644_755830_20241010/1399306644_755830_20241010_probeF_sorted/continuous/Neuropix-PXI-100.1/continuous.dat'),\n",
       " WindowsPath('//allen/programs/mindscope/workgroups/np-exp/1400228285_757088_20241016/1400228285_757088_20241016_probeF_sorted/continuous/Neuropix-PXI-100.0/continuous.dat'),\n",
       " WindowsPath('//allen/programs/mindscope/workgroups/np-exp/1400228285_757088_20241016/1400228285_757088_20241016_probeF_sorted/continuous/Neuropix-PXI-100.0/residuals.dat'),\n",
       " WindowsPath('//allen/programs/mindscope/workgroups/np-exp/1400228285_757088_20241016/1400228285_757088_20241016_probeF_sorted/continuous/Neuropix-PXI-100.1/continuous.dat'),\n",
       " WindowsPath('//allen/programs/mindscope/workgroups/np-exp/1400398822_755828_20241017/1400398822_755828_20241017_probeF_sorted/continuous/Neuropix-PXI-100.0/continuous.dat'),\n",
       " WindowsPath('//allen/programs/mindscope/workgroups/np-exp/1400398822_755828_20241017/1400398822_755828_20241017_probeF_sorted/continuous/Neuropix-PXI-100.0/residuals.dat'),\n",
       " WindowsPath('//allen/programs/mindscope/workgroups/np-exp/1400398822_755828_20241017/1400398822_755828_20241017_probeF_sorted/continuous/Neuropix-PXI-100.1/continuous.dat'),\n",
       " WindowsPath('//allen/programs/mindscope/workgroups/np-exp/1400073392_757089_20241015/1400073392_757089_20241015_probeF_sorted/continuous/Neuropix-PXI-100.0/continuous.dat'),\n",
       " WindowsPath('//allen/programs/mindscope/workgroups/np-exp/1400073392_757089_20241015/1400073392_757089_20241015_probeF_sorted/continuous/Neuropix-PXI-100.0/residuals.dat'),\n",
       " WindowsPath('//allen/programs/mindscope/workgroups/np-exp/1400073392_757089_20241015/1400073392_757089_20241015_probeF_sorted/continuous/Neuropix-PXI-100.1/continuous.dat')]"
      ]
     },
     "execution_count": 3,
     "metadata": {},
     "output_type": "execute_result"
    }
   ],
   "source": [
    "unlinked_paths"
   ]
  },
  {
   "cell_type": "code",
   "execution_count": 4,
   "metadata": {},
   "outputs": [],
   "source": [
    "import itertools\n",
    "\n",
    "\n",
    "total_bytes = 0  \n",
    "for npexp_path in NPEXP_ROOT.iterdir():\n",
    "    try:\n",
    "        session = np_session.PipelineSession(npexp_path)\n",
    "    except np_session.SessionError:\n",
    "        continue\n",
    "    \n",
    "    if not getattr(session, \"lims_path\", None):\n",
    "        continue\n",
    "    \n",
    "    for npexp_file in itertools.chain(npexp_path.rglob('*.npx2'), npexp_path.rglob('*.dat')):\n",
    "        if (\n",
    "            not npexp_file.is_symlink()\n",
    "            and (lims_copy := session.lims_path / npexp_file.relative_to(npexp_path)).exists()\n",
    "            and sizes_match(npexp_file, lims_copy)\n",
    "        ):\n",
    "            total_bytes += size(npexp_file)\n",
    "            unlink(npexp_file)\n",
    "            print(f\"{'Dryrun: ' if DRYRUN else ''}Cleared {total_bytes/1024**3:,.0f} GB\\r\", end='')"
   ]
  },
  {
   "cell_type": "code",
   "execution_count": 5,
   "metadata": {},
   "outputs": [
    {
     "data": {
      "text/plain": [
       "[WindowsPath('//allen/programs/mindscope/workgroups/np-exp/1399306644_755830_20241010/1399306644_755830_20241010_probeA_sorted/continuous/Neuropix-PXI-100.0/continuous.dat'),\n",
       " WindowsPath('//allen/programs/mindscope/workgroups/np-exp/1399306644_755830_20241010/1399306644_755830_20241010_probeA_sorted/continuous/Neuropix-PXI-100.0/residuals.dat'),\n",
       " WindowsPath('//allen/programs/mindscope/workgroups/np-exp/1399306644_755830_20241010/1399306644_755830_20241010_probeA_sorted/continuous/Neuropix-PXI-100.1/continuous.dat'),\n",
       " WindowsPath('//allen/programs/mindscope/workgroups/np-exp/1400228285_757088_20241016/1400228285_757088_20241016_probeA_sorted/continuous/Neuropix-PXI-100.0/continuous.dat'),\n",
       " WindowsPath('//allen/programs/mindscope/workgroups/np-exp/1400228285_757088_20241016/1400228285_757088_20241016_probeA_sorted/continuous/Neuropix-PXI-100.0/residuals.dat'),\n",
       " WindowsPath('//allen/programs/mindscope/workgroups/np-exp/1400228285_757088_20241016/1400228285_757088_20241016_probeA_sorted/continuous/Neuropix-PXI-100.1/continuous.dat'),\n",
       " WindowsPath('//allen/programs/mindscope/workgroups/np-exp/1400398822_755828_20241017/1400398822_755828_20241017_probeA_sorted/continuous/Neuropix-PXI-100.0/continuous.dat'),\n",
       " WindowsPath('//allen/programs/mindscope/workgroups/np-exp/1400398822_755828_20241017/1400398822_755828_20241017_probeA_sorted/continuous/Neuropix-PXI-100.0/residuals.dat'),\n",
       " WindowsPath('//allen/programs/mindscope/workgroups/np-exp/1400398822_755828_20241017/1400398822_755828_20241017_probeA_sorted/continuous/Neuropix-PXI-100.1/continuous.dat'),\n",
       " WindowsPath('//allen/programs/mindscope/workgroups/np-exp/1400073392_757089_20241015/1400073392_757089_20241015_probeA_sorted/continuous/Neuropix-PXI-100.0/continuous.dat'),\n",
       " WindowsPath('//allen/programs/mindscope/workgroups/np-exp/1400073392_757089_20241015/1400073392_757089_20241015_probeA_sorted/continuous/Neuropix-PXI-100.0/residuals.dat'),\n",
       " WindowsPath('//allen/programs/mindscope/workgroups/np-exp/1400073392_757089_20241015/1400073392_757089_20241015_probeA_sorted/continuous/Neuropix-PXI-100.1/continuous.dat'),\n",
       " WindowsPath('//allen/programs/mindscope/workgroups/np-exp/1399306644_755830_20241010/1399306644_755830_20241010_probeB_sorted/continuous/Neuropix-PXI-100.0/continuous.dat'),\n",
       " WindowsPath('//allen/programs/mindscope/workgroups/np-exp/1399306644_755830_20241010/1399306644_755830_20241010_probeB_sorted/continuous/Neuropix-PXI-100.0/residuals.dat'),\n",
       " WindowsPath('//allen/programs/mindscope/workgroups/np-exp/1399306644_755830_20241010/1399306644_755830_20241010_probeB_sorted/continuous/Neuropix-PXI-100.1/continuous.dat'),\n",
       " WindowsPath('//allen/programs/mindscope/workgroups/np-exp/1400228285_757088_20241016/1400228285_757088_20241016_probeB_sorted/continuous/Neuropix-PXI-100.0/continuous.dat'),\n",
       " WindowsPath('//allen/programs/mindscope/workgroups/np-exp/1400228285_757088_20241016/1400228285_757088_20241016_probeB_sorted/continuous/Neuropix-PXI-100.0/residuals.dat'),\n",
       " WindowsPath('//allen/programs/mindscope/workgroups/np-exp/1400228285_757088_20241016/1400228285_757088_20241016_probeB_sorted/continuous/Neuropix-PXI-100.1/continuous.dat'),\n",
       " WindowsPath('//allen/programs/mindscope/workgroups/np-exp/1400398822_755828_20241017/1400398822_755828_20241017_probeB_sorted/continuous/Neuropix-PXI-100.0/continuous.dat'),\n",
       " WindowsPath('//allen/programs/mindscope/workgroups/np-exp/1400398822_755828_20241017/1400398822_755828_20241017_probeB_sorted/continuous/Neuropix-PXI-100.0/residuals.dat'),\n",
       " WindowsPath('//allen/programs/mindscope/workgroups/np-exp/1400398822_755828_20241017/1400398822_755828_20241017_probeB_sorted/continuous/Neuropix-PXI-100.1/continuous.dat'),\n",
       " WindowsPath('//allen/programs/mindscope/workgroups/np-exp/1400073392_757089_20241015/1400073392_757089_20241015_probeB_sorted/continuous/Neuropix-PXI-100.0/continuous.dat'),\n",
       " WindowsPath('//allen/programs/mindscope/workgroups/np-exp/1400073392_757089_20241015/1400073392_757089_20241015_probeB_sorted/continuous/Neuropix-PXI-100.0/residuals.dat'),\n",
       " WindowsPath('//allen/programs/mindscope/workgroups/np-exp/1400073392_757089_20241015/1400073392_757089_20241015_probeB_sorted/continuous/Neuropix-PXI-100.1/continuous.dat'),\n",
       " WindowsPath('//allen/programs/mindscope/workgroups/np-exp/1399306644_755830_20241010/1399306644_755830_20241010_probeC_sorted/continuous/Neuropix-PXI-100.0/continuous.dat'),\n",
       " WindowsPath('//allen/programs/mindscope/workgroups/np-exp/1399306644_755830_20241010/1399306644_755830_20241010_probeC_sorted/continuous/Neuropix-PXI-100.0/residuals.dat'),\n",
       " WindowsPath('//allen/programs/mindscope/workgroups/np-exp/1399306644_755830_20241010/1399306644_755830_20241010_probeC_sorted/continuous/Neuropix-PXI-100.1/continuous.dat'),\n",
       " WindowsPath('//allen/programs/mindscope/workgroups/np-exp/1400228285_757088_20241016/1400228285_757088_20241016_probeC_sorted/continuous/Neuropix-PXI-100.0/continuous.dat'),\n",
       " WindowsPath('//allen/programs/mindscope/workgroups/np-exp/1400228285_757088_20241016/1400228285_757088_20241016_probeC_sorted/continuous/Neuropix-PXI-100.0/residuals.dat'),\n",
       " WindowsPath('//allen/programs/mindscope/workgroups/np-exp/1400228285_757088_20241016/1400228285_757088_20241016_probeC_sorted/continuous/Neuropix-PXI-100.1/continuous.dat'),\n",
       " WindowsPath('//allen/programs/mindscope/workgroups/np-exp/1400398822_755828_20241017/1400398822_755828_20241017_probeC_sorted/continuous/Neuropix-PXI-100.0/continuous.dat'),\n",
       " WindowsPath('//allen/programs/mindscope/workgroups/np-exp/1400398822_755828_20241017/1400398822_755828_20241017_probeC_sorted/continuous/Neuropix-PXI-100.0/residuals.dat'),\n",
       " WindowsPath('//allen/programs/mindscope/workgroups/np-exp/1400398822_755828_20241017/1400398822_755828_20241017_probeC_sorted/continuous/Neuropix-PXI-100.1/continuous.dat'),\n",
       " WindowsPath('//allen/programs/mindscope/workgroups/np-exp/1400073392_757089_20241015/1400073392_757089_20241015_probeC_sorted/continuous/Neuropix-PXI-100.0/continuous.dat'),\n",
       " WindowsPath('//allen/programs/mindscope/workgroups/np-exp/1400073392_757089_20241015/1400073392_757089_20241015_probeC_sorted/continuous/Neuropix-PXI-100.0/residuals.dat'),\n",
       " WindowsPath('//allen/programs/mindscope/workgroups/np-exp/1400073392_757089_20241015/1400073392_757089_20241015_probeC_sorted/continuous/Neuropix-PXI-100.1/continuous.dat'),\n",
       " WindowsPath('//allen/programs/mindscope/workgroups/np-exp/1399306644_755830_20241010/1399306644_755830_20241010_probeD_sorted/continuous/Neuropix-PXI-100.0/continuous.dat'),\n",
       " WindowsPath('//allen/programs/mindscope/workgroups/np-exp/1399306644_755830_20241010/1399306644_755830_20241010_probeD_sorted/continuous/Neuropix-PXI-100.0/residuals.dat'),\n",
       " WindowsPath('//allen/programs/mindscope/workgroups/np-exp/1399306644_755830_20241010/1399306644_755830_20241010_probeD_sorted/continuous/Neuropix-PXI-100.1/continuous.dat'),\n",
       " WindowsPath('//allen/programs/mindscope/workgroups/np-exp/1400228285_757088_20241016/1400228285_757088_20241016_probeD_sorted/continuous/Neuropix-PXI-100.0/continuous.dat'),\n",
       " WindowsPath('//allen/programs/mindscope/workgroups/np-exp/1400228285_757088_20241016/1400228285_757088_20241016_probeD_sorted/continuous/Neuropix-PXI-100.0/residuals.dat'),\n",
       " WindowsPath('//allen/programs/mindscope/workgroups/np-exp/1400228285_757088_20241016/1400228285_757088_20241016_probeD_sorted/continuous/Neuropix-PXI-100.1/continuous.dat'),\n",
       " WindowsPath('//allen/programs/mindscope/workgroups/np-exp/1400398822_755828_20241017/1400398822_755828_20241017_probeD_sorted/continuous/Neuropix-PXI-100.0/continuous.dat'),\n",
       " WindowsPath('//allen/programs/mindscope/workgroups/np-exp/1400398822_755828_20241017/1400398822_755828_20241017_probeD_sorted/continuous/Neuropix-PXI-100.0/residuals.dat'),\n",
       " WindowsPath('//allen/programs/mindscope/workgroups/np-exp/1400398822_755828_20241017/1400398822_755828_20241017_probeD_sorted/continuous/Neuropix-PXI-100.1/continuous.dat'),\n",
       " WindowsPath('//allen/programs/mindscope/workgroups/np-exp/1400073392_757089_20241015/1400073392_757089_20241015_probeD_sorted/continuous/Neuropix-PXI-100.0/continuous.dat'),\n",
       " WindowsPath('//allen/programs/mindscope/workgroups/np-exp/1400073392_757089_20241015/1400073392_757089_20241015_probeD_sorted/continuous/Neuropix-PXI-100.0/residuals.dat'),\n",
       " WindowsPath('//allen/programs/mindscope/workgroups/np-exp/1400073392_757089_20241015/1400073392_757089_20241015_probeD_sorted/continuous/Neuropix-PXI-100.1/continuous.dat'),\n",
       " WindowsPath('//allen/programs/mindscope/workgroups/np-exp/1399306644_755830_20241010/1399306644_755830_20241010_probeE_sorted/continuous/Neuropix-PXI-100.0/continuous.dat'),\n",
       " WindowsPath('//allen/programs/mindscope/workgroups/np-exp/1399306644_755830_20241010/1399306644_755830_20241010_probeE_sorted/continuous/Neuropix-PXI-100.0/residuals.dat'),\n",
       " WindowsPath('//allen/programs/mindscope/workgroups/np-exp/1399306644_755830_20241010/1399306644_755830_20241010_probeE_sorted/continuous/Neuropix-PXI-100.1/continuous.dat'),\n",
       " WindowsPath('//allen/programs/mindscope/workgroups/np-exp/1400228285_757088_20241016/1400228285_757088_20241016_probeE_sorted/continuous/Neuropix-PXI-100.0/continuous.dat'),\n",
       " WindowsPath('//allen/programs/mindscope/workgroups/np-exp/1400228285_757088_20241016/1400228285_757088_20241016_probeE_sorted/continuous/Neuropix-PXI-100.0/residuals.dat'),\n",
       " WindowsPath('//allen/programs/mindscope/workgroups/np-exp/1400228285_757088_20241016/1400228285_757088_20241016_probeE_sorted/continuous/Neuropix-PXI-100.1/continuous.dat'),\n",
       " WindowsPath('//allen/programs/mindscope/workgroups/np-exp/1400398822_755828_20241017/1400398822_755828_20241017_probeE_sorted/continuous/Neuropix-PXI-100.0/continuous.dat'),\n",
       " WindowsPath('//allen/programs/mindscope/workgroups/np-exp/1400398822_755828_20241017/1400398822_755828_20241017_probeE_sorted/continuous/Neuropix-PXI-100.0/residuals.dat'),\n",
       " WindowsPath('//allen/programs/mindscope/workgroups/np-exp/1400398822_755828_20241017/1400398822_755828_20241017_probeE_sorted/continuous/Neuropix-PXI-100.1/continuous.dat'),\n",
       " WindowsPath('//allen/programs/mindscope/workgroups/np-exp/1400073392_757089_20241015/1400073392_757089_20241015_probeE_sorted/continuous/Neuropix-PXI-100.0/continuous.dat'),\n",
       " WindowsPath('//allen/programs/mindscope/workgroups/np-exp/1400073392_757089_20241015/1400073392_757089_20241015_probeE_sorted/continuous/Neuropix-PXI-100.0/residuals.dat'),\n",
       " WindowsPath('//allen/programs/mindscope/workgroups/np-exp/1400073392_757089_20241015/1400073392_757089_20241015_probeE_sorted/continuous/Neuropix-PXI-100.1/continuous.dat'),\n",
       " WindowsPath('//allen/programs/mindscope/workgroups/np-exp/1399306644_755830_20241010/1399306644_755830_20241010_probeF_sorted/continuous/Neuropix-PXI-100.0/continuous.dat'),\n",
       " WindowsPath('//allen/programs/mindscope/workgroups/np-exp/1399306644_755830_20241010/1399306644_755830_20241010_probeF_sorted/continuous/Neuropix-PXI-100.0/residuals.dat'),\n",
       " WindowsPath('//allen/programs/mindscope/workgroups/np-exp/1399306644_755830_20241010/1399306644_755830_20241010_probeF_sorted/continuous/Neuropix-PXI-100.1/continuous.dat'),\n",
       " WindowsPath('//allen/programs/mindscope/workgroups/np-exp/1400228285_757088_20241016/1400228285_757088_20241016_probeF_sorted/continuous/Neuropix-PXI-100.0/continuous.dat'),\n",
       " WindowsPath('//allen/programs/mindscope/workgroups/np-exp/1400228285_757088_20241016/1400228285_757088_20241016_probeF_sorted/continuous/Neuropix-PXI-100.0/residuals.dat'),\n",
       " WindowsPath('//allen/programs/mindscope/workgroups/np-exp/1400228285_757088_20241016/1400228285_757088_20241016_probeF_sorted/continuous/Neuropix-PXI-100.1/continuous.dat'),\n",
       " WindowsPath('//allen/programs/mindscope/workgroups/np-exp/1400398822_755828_20241017/1400398822_755828_20241017_probeF_sorted/continuous/Neuropix-PXI-100.0/continuous.dat'),\n",
       " WindowsPath('//allen/programs/mindscope/workgroups/np-exp/1400398822_755828_20241017/1400398822_755828_20241017_probeF_sorted/continuous/Neuropix-PXI-100.0/residuals.dat'),\n",
       " WindowsPath('//allen/programs/mindscope/workgroups/np-exp/1400398822_755828_20241017/1400398822_755828_20241017_probeF_sorted/continuous/Neuropix-PXI-100.1/continuous.dat'),\n",
       " WindowsPath('//allen/programs/mindscope/workgroups/np-exp/1400073392_757089_20241015/1400073392_757089_20241015_probeF_sorted/continuous/Neuropix-PXI-100.0/continuous.dat'),\n",
       " WindowsPath('//allen/programs/mindscope/workgroups/np-exp/1400073392_757089_20241015/1400073392_757089_20241015_probeF_sorted/continuous/Neuropix-PXI-100.0/residuals.dat'),\n",
       " WindowsPath('//allen/programs/mindscope/workgroups/np-exp/1400073392_757089_20241015/1400073392_757089_20241015_probeF_sorted/continuous/Neuropix-PXI-100.1/continuous.dat')]"
      ]
     },
     "execution_count": 5,
     "metadata": {},
     "output_type": "execute_result"
    }
   ],
   "source": [
    "unlinked_paths"
   ]
  },
  {
   "cell_type": "code",
   "execution_count": null,
   "metadata": {},
   "outputs": [],
   "source": []
  }
 ],
 "metadata": {
  "kernelspec": {
   "display_name": ".venv",
   "language": "python",
   "name": "python3"
  },
  "language_info": {
   "codemirror_mode": {
    "name": "ipython",
    "version": 3
   },
   "file_extension": ".py",
   "mimetype": "text/x-python",
   "name": "python",
   "nbconvert_exporter": "python",
   "pygments_lexer": "ipython3",
   "version": "3.11.3"
  },
  "orig_nbformat": 4
 },
 "nbformat": 4,
 "nbformat_minor": 2
}
