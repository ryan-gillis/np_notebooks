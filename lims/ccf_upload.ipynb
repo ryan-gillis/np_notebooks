{
 "cells": [
  {
   "cell_type": "code",
   "execution_count": 1,
   "metadata": {},
   "outputs": [],
   "source": [
    "import itertools\n",
    "import json\n",
    "import os\n",
    "import pathlib\n",
    "import pprint\n",
    "import re\n",
    "import shutil\n",
    "import warnings\n",
    "\n",
    "from np_session import Session\n",
    "\n",
    "def eat_warning_lines(msg:str, category:str, *args, **kwargs):\n",
    "    print(\"/n{}: {}/n\".format(category.__name__, msg))\n",
    "warnings.showwarning = eat_warning_lines\n",
    "\n",
    "INCOMING_ROOT = pathlib.Path(\"//allen/programs/braintv/production/incoming/neuralcoding\")\n",
    "def opt_root_from_mouse_id(mouse_id:str|int) -> pathlib.Path|None:\n",
    "    openscope_root = pathlib.Path(\"//allen/programs/mindscope/workgroups/openscope\")\n",
    "    if (root := tuple(openscope_root.glob(f\"*/AlignToPhysiology/{mouse_id}\"))):\n",
    "        return root[0]\n",
    "    return None"
   ]
  },
  {
   "cell_type": "code",
   "execution_count": 2,
   "metadata": {},
   "outputs": [
    {
     "name": "stdout",
     "output_type": "stream",
     "text": [
      "[WindowsPath('//allen/programs/mindscope/workgroups/openscope/OPT_BarC/AlignToPhysiology/668800'), WindowsPath('//allen/programs/mindscope/workgroups/openscope/OPT_BarC/AlignToPhysiology/669417'), WindowsPath('//allen/programs/mindscope/workgroups/openscope/OPT_BarC/AlignToPhysiology/673694')]\n"
     ]
    }
   ],
   "source": [
    "mice = (\n",
    "668800,\n",
    "669417,\n",
    "673694,\n",
    ")\n",
    "mouse_dirs = [opt_root_from_mouse_id(m) for m in mice]\n",
    "print(mouse_dirs)"
   ]
  },
  {
   "cell_type": "code",
   "execution_count": 3,
   "metadata": {},
   "outputs": [],
   "source": [
    "def most_recent_file(paths: list[pathlib.Path]) -> pathlib.Path | None:\n",
    "    return max(paths, key=os.path.getmtime) if paths else None\n",
    "def matching_files_by_probe(probe: str, paths: list[pathlib.Path]) -> list[pathlib.Path]:\n",
    "    return [p for p in paths if f'_probe{probe.upper()}' in p.name]\n",
    "def most_recent_file_each_probe(paths: list[pathlib.Path]) -> list[pathlib.Path]:\n",
    "    files_or_nones = [most_recent_file(matching_files_by_probe(p, paths)) for p in 'ABCDEF']\n",
    "    return [_ for _ in files_or_nones if _ is not None]"
   ]
  },
  {
   "cell_type": "code",
   "execution_count": 4,
   "metadata": {},
   "outputs": [
    {
     "name": "stdout",
     "output_type": "stream",
     "text": [
      "668800: found 6 csv files in \\\\allen\\programs\\mindscope\\workgroups\\openscope\\OPT_BarC\\AlignToPhysiology\\668800\n",
      "{'files': {'ephys_raw_data_probe_A_sorted': {'directory_name': '1274061513_probeA_sorted'},\n",
      "           'ephys_raw_data_probe_B_sorted': {'directory_name': '1274061513_probeB_sorted'},\n",
      "           'ephys_raw_data_probe_C_sorted': {'directory_name': '1274061513_probeC_sorted'},\n",
      "           'ephys_raw_data_probe_D_sorted': {'directory_name': '1274061513_probeD_sorted'},\n",
      "           'ephys_raw_data_probe_E_sorted': {'directory_name': '1274061513_probeE_sorted'},\n",
      "           'ephys_raw_data_probe_F_sorted': {'directory_name': '1274061513_probeF_sorted'}}}\n",
      "renamed \\\\allen\\programs\\braintv\\production\\incoming\\neuralcoding\\1274061513_668800_20230601_platformD1.json\n",
      "\twritten \\\\allen\\programs\\braintv\\production\\incoming\\neuralcoding\\1274061513_platformD2.json\n",
      "\twritten \\\\allen\\programs\\braintv\\production\\incoming\\neuralcoding\\trigger\\1274061513.ecp\n",
      "669417: found 6 csv files in \\\\allen\\programs\\mindscope\\workgroups\\openscope\\OPT_BarC\\AlignToPhysiology\\669417\n",
      "{'files': {'ephys_raw_data_probe_A_sorted': {'directory_name': '1275082330_probeA_sorted'},\n",
      "           'ephys_raw_data_probe_B_sorted': {'directory_name': '1275082330_probeB_sorted'},\n",
      "           'ephys_raw_data_probe_C_sorted': {'directory_name': '1275082330_probeC_sorted'},\n",
      "           'ephys_raw_data_probe_D_sorted': {'directory_name': '1275082330_probeD_sorted'},\n",
      "           'ephys_raw_data_probe_E_sorted': {'directory_name': '1275082330_probeE_sorted'},\n",
      "           'ephys_raw_data_probe_F_sorted': {'directory_name': '1275082330_probeF_sorted'}}}\n",
      "\twritten \\\\allen\\programs\\braintv\\production\\incoming\\neuralcoding\\1275082330_platformD2.json\n",
      "\twritten \\\\allen\\programs\\braintv\\production\\incoming\\neuralcoding\\trigger\\1275082330.ecp\n",
      "673694: found 6 csv files in \\\\allen\\programs\\mindscope\\workgroups\\openscope\\OPT_BarC\\AlignToPhysiology\\673694\n",
      "{'files': {'ephys_raw_data_probe_A_sorted': {'directory_name': '1276522234_probeA_sorted'},\n",
      "           'ephys_raw_data_probe_B_sorted': {'directory_name': '1276522234_probeB_sorted'},\n",
      "           'ephys_raw_data_probe_C_sorted': {'directory_name': '1276522234_probeC_sorted'},\n",
      "           'ephys_raw_data_probe_D_sorted': {'directory_name': '1276522234_probeD_sorted'},\n",
      "           'ephys_raw_data_probe_E_sorted': {'directory_name': '1276522234_probeE_sorted'},\n",
      "           'ephys_raw_data_probe_F_sorted': {'directory_name': '1276522234_probeF_sorted'}}}\n",
      "\twritten \\\\allen\\programs\\braintv\\production\\incoming\\neuralcoding\\1276522234_platformD2.json\n",
      "\twritten \\\\allen\\programs\\braintv\\production\\incoming\\neuralcoding\\trigger\\1276522234.ecp\n"
     ]
    }
   ],
   "source": [
    "for mouse_dir in mouse_dirs:\n",
    "    mouse_id = mouse_dir.parts[-1]\n",
    "\n",
    "    src_paths = (\n",
    "        list(mouse_dir.glob('images/*_probe*sortedccf_regions.csv'))\n",
    "        + list(mouse_dir.glob('images/*_probe*sorted_ccf_regions.csv'))\n",
    "    )\n",
    "    src_paths = most_recent_file_each_probe(src_paths)\n",
    "    \n",
    "    if not src_paths:\n",
    "        print(f\"No csv files found for {mouse_id} in {mouse_dir}\")\n",
    "        continue\n",
    "    \n",
    "    if len(src_paths) > 6:\n",
    "        print(f\"Too many csv files found for {mouse_id} in {mouse_dir}: {[p.name for p in src_paths]}\")\n",
    "        continue \n",
    "    \n",
    "    session_id = src_paths[0].name.split('_')[0]\n",
    "    try:\n",
    "        lims_path = Session(f\"{session_id}_366122_12345678\").lims_path \n",
    "        # fill in dummy mouse_id/date - only need session id to be correct\n",
    "        if not lims_path:\n",
    "            raise Exception\n",
    "    except:\n",
    "        print(f\"Could not find LIMS path for session {session_id}\")\n",
    "        continue\n",
    "    \n",
    "    # lims_probe_folder = f'{session_id}_probe{probe_letter}'\n",
    "    if lims_paths := list(lims_path.glob(f'*/*_probe*/continuous/Neuropix-PXI-100.0/ccf_regions.csv')):\n",
    "        print(f\"{mouse_id}: found {len(lims_paths)} csv files on lims for {session_id}\")       \n",
    "        pprint.pprint(lims_paths)\n",
    "        response = None\n",
    "        while not (response == 'y' or response == 'n'):\n",
    "            response = input(\"Existing ccf_regions.csv on lims - continue and overwrite? (y/n): \")\n",
    "            if response == 'y':\n",
    "                break\n",
    "        else:\n",
    "            print(f\"Skipping {session_id} {mouse_id}\\n\")\n",
    "            continue\n",
    "    \n",
    "    platform_files = {'files': {}}\n",
    "    for src_path in src_paths:\n",
    "    \n",
    "        # get probe letter \n",
    "        probe_letter = re.findall('_probe([A-F])', src_path.name)[0]\n",
    "        \n",
    "        incoming_probe_folder = f'{session_id}_probe{probe_letter}_sorted'\n",
    "        probe_key = f\"ephys_raw_data_probe_{probe_letter}_sorted\"\n",
    "            \n",
    "        # copy each csv to a common folder in incoming \n",
    "        dest_path = INCOMING_ROOT / incoming_probe_folder / 'continuous'/ 'Neuropix-PXI-100.0' / 'ccf_regions.csv'\n",
    "        dest_path.parent.mkdir(parents=True, exist_ok=True)\n",
    "        shutil.copy2(src_path, dest_path)\n",
    "\n",
    "        if not (INCOMING_ROOT / incoming_probe_folder).exists():\n",
    "            raise FileNotFoundError(f\"Could not find {incoming_probe_folder} in {INCOMING_ROOT}\")\n",
    "            \n",
    "        # add probe entry to platform json dict\n",
    "        platform_files['files'].update(\n",
    "            {probe_key:\n",
    "                {\"directory_name\":incoming_probe_folder}\n",
    "                }\n",
    "            )\n",
    "    \n",
    "    print(f\"{mouse_id}: found {len(src_paths)} csv files in {mouse_dir}\")       \n",
    "    pprint.pprint(platform_files) if platform_files['files'] else None\n",
    "    response = None\n",
    "    while not (response == 'y' or response == 'n'):\n",
    "        response = input(\"Check the probe entries look correct - continue? (y/n): \")\n",
    "        if response == 'y':\n",
    "            break\n",
    "    else:\n",
    "        print(f\"Skipping {session_id} {mouse_id}\\n\")\n",
    "        continue\n",
    "    \n",
    "    # rename any existing platform jsons in incoming, so we don't trigger their\n",
    "    # uploads prematurely\n",
    "    for existing_platform_json in INCOMING_ROOT.glob(f'{session_id}*_platform*.json'):\n",
    "        existing_platform_json.replace(existing_platform_json.with_suffix('.bak'))\n",
    "        print(f\"renamed {existing_platform_json}\")\n",
    "    \n",
    "    # write the D2 platform json to incoming \n",
    "    with open(INCOMING_ROOT / f\"{session_id}_platformD2.json\", 'w') as f:\n",
    "        json.dump(platform_files, f, indent=4)\n",
    "    print(f\"\\twritten {INCOMING_ROOT / f'{session_id}_platformD2.json'}\")\n",
    "    \n",
    "    # write a trigger file to incoming/trigger\n",
    "    with open(INCOMING_ROOT / 'trigger' / f\"{session_id}.ecp\", 'w') as f:\n",
    "        f.writelines('sessionid: ' + session_id + \"\\n\")\n",
    "        f.writelines(\"location: '\" + INCOMING_ROOT.as_posix() + \"'\")\n",
    "    print(f\"\\twritten {INCOMING_ROOT / 'trigger' / f'{session_id}.ecp'}\")"
   ]
  },
  {
   "cell_type": "markdown",
   "metadata": {},
   "source": [
    "***\n",
    "A `.ecp` trigger file for each mouse should now be in this folder (for about a minute,\n",
    "before lims sees the trigger file, starts the job, and removes the `.ecp`)"
   ]
  },
  {
   "cell_type": "code",
   "execution_count": 5,
   "metadata": {},
   "outputs": [],
   "source": [
    "os.startfile(INCOMING_ROOT / 'trigger')"
   ]
  },
  {
   "cell_type": "code",
   "execution_count": null,
   "metadata": {},
   "outputs": [],
   "source": []
  }
 ],
 "metadata": {
  "kernelspec": {
   "display_name": ".venv",
   "language": "python",
   "name": "python3"
  },
  "language_info": {
   "codemirror_mode": {
    "name": "ipython",
    "version": 3
   },
   "file_extension": ".py",
   "mimetype": "text/x-python",
   "name": "python",
   "nbconvert_exporter": "python",
   "pygments_lexer": "ipython3",
   "version": "3.11.3"
  }
 },
 "nbformat": 4,
 "nbformat_minor": 2
}
