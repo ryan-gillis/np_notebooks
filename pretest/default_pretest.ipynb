{
 "cells": [
  {
   "cell_type": "markdown",
   "metadata": {},
   "source": [
    "# Pretest\n",
    "---\n",
    "\n",
    "## 1. Edit the command below to remove checks that you don't want to run\n",
    "## 2. When stim is running, spin the running wheel and tap the lick spout\n",
    "## 3. Check the output for errors!"
   ]
  },
  {
   "cell_type": "code",
   "execution_count": null,
   "metadata": {},
   "outputs": [],
   "source": [
    "!pretest --check_barcodes --check_licks --check_running --check_opto --check_audio"
   ]
  },
  {
   "cell_type": "markdown",
   "metadata": {},
   "source": [
    "---\n",
    "## Lickspout test"
   ]
  },
  {
   "cell_type": "code",
   "execution_count": null,
   "metadata": {},
   "outputs": [],
   "source": [
    "import np_services\n",
    "import time\n",
    "\n",
    "pause_time_sec = 3\n",
    "\n",
    "np_services.MouseDirector.get_proxy().retract_lick_spout()\n",
    "time.sleep(pause_time_sec)\n",
    "\n",
    "np_services.MouseDirector.get_proxy().extend_lick_spout()\n",
    "time.sleep(pause_time_sec)\n",
    "\n",
    "np_services.MouseDirector.get_proxy().retract_lick_spout()"
   ]
  }
 ],
 "metadata": {
  "kernelspec": {
   "display_name": ".venv",
   "language": "python",
   "name": "python3"
  },
  "language_info": {
   "codemirror_mode": {
    "name": "ipython",
    "version": 3
   },
   "file_extension": ".py",
   "mimetype": "text/x-python",
   "name": "python",
   "nbconvert_exporter": "python",
   "pygments_lexer": "ipython3",
   "version": "3.11.3"
  }
 },
 "nbformat": 4,
 "nbformat_minor": 2
}
