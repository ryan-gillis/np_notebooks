{
 "cells": [
  {
   "attachments": {},
   "cell_type": "markdown",
   "metadata": {},
   "source": [
    "# *Dynamic Routing*\n",
    "<img src=\"https://www.kvc.org/wp-content/uploads/2015/08/brain-600px-600x372.jpg\" width=\"320\" />"
   ]
  },
  {
   "cell_type": "markdown",
   "metadata": {},
   "source": [
    "## Run the update/reset shortcut on the desktop before each experiment\n",
    "***\n",
    "***\n",
    "# **Without mouse on stage**"
   ]
  },
  {
   "cell_type": "code",
   "execution_count": null,
   "metadata": {},
   "outputs": [],
   "source": [
    "import pathlib\n",
    "\n",
    "import IPython\n",
    "import ipywidgets as widgets\n",
    "\n",
    "import np_logging\n",
    "import np_session\n",
    "import np_services\n",
    "import np_workflows\n",
    "from np_workflows import npxc\n",
    "import np_workflows.experiments.dynamic_routing as DR\n",
    "import npc_shields\n",
    "\n",
    "from np_services.resources.zro import ZroError \n",
    "import contextlib\n",
    "\n",
    "np_logging.getLogger()\n",
    "\n",
    "np_workflows.elapsed_time_widget()"
   ]
  },
  {
   "attachments": {},
   "cell_type": "markdown",
   "metadata": {},
   "source": [
    "***\n",
    "## Quiet mode\n",
    "on  \n",
    "*default*\n",
    "- exception details are hidden\n",
    "- regular messages displayed (log level = INFO)\n",
    "\n",
    "off\n",
    "- full exception details with traceback\n",
    "- extra messages displayed (log level = DEBUG)"
   ]
  },
  {
   "cell_type": "code",
   "execution_count": null,
   "metadata": {},
   "outputs": [],
   "source": [
    "np_workflows.quiet_mode_widget()"
   ]
  },
  {
   "cell_type": "markdown",
   "metadata": {},
   "source": [
    "***\n",
    "## Launch apps via RSC\n",
    "[optional]"
   ]
  },
  {
   "cell_type": "code",
   "execution_count": null,
   "metadata": {},
   "outputs": [],
   "source": [
    "import contextlib\n",
    "with contextlib.suppress(Exception):\n",
    "    np_services.start_rsc_apps()"
   ]
  },
  {
   "cell_type": "markdown",
   "metadata": {},
   "source": [
    "***\n",
    "## Select mouse and user"
   ]
  },
  {
   "cell_type": "code",
   "execution_count": null,
   "metadata": {},
   "outputs": [],
   "source": [
    "user, mouse = np_workflows.user_and_mouse_widget()"
   ]
  },
  {
   "cell_type": "markdown",
   "metadata": {},
   "source": [
    "***\n",
    "## Select workflow\n",
    "Re-run this cell if mouse ID is changed"
   ]
  },
  {
   "cell_type": "code",
   "execution_count": null,
   "metadata": {
    "tags": []
   },
   "outputs": [],
   "source": [
    "selection = DR.workflow_select_widget(mouse)"
   ]
  },
  {
   "cell_type": "markdown",
   "metadata": {},
   "source": [
    "***\n",
    "## Set MTrain stage for mouse\n",
    "[optional] skip this for ephys"
   ]
  },
  {
   "cell_type": "code",
   "execution_count": null,
   "metadata": {},
   "outputs": [],
   "source": [
    "np_workflows.mtrain_widget(mouse)"
   ]
  },
  {
   "cell_type": "markdown",
   "metadata": {},
   "source": [
    "***\n",
    "## Generate new session\n",
    "Re-run this cell if workflow is changed above.\n",
    "\n",
    "Check mouse ID and session are correct: this cell will lock them in!"
   ]
  },
  {
   "cell_type": "code",
   "execution_count": null,
   "metadata": {
    "tags": []
   },
   "outputs": [],
   "source": [
    "experiment: np_workflows.DynamicRoutingExperiment = DR.new_experiment(mouse, user, selection.workflow)\n",
    "session: np_session.Session = experiment.session"
   ]
  },
  {
   "cell_type": "markdown",
   "metadata": {},
   "source": [
    "***\n",
    "## Set task\n",
    "- select a preset task variant\n",
    "- modify in the text box as needed (right) - hit enter to apply"
   ]
  },
  {
   "cell_type": "code",
   "execution_count": null,
   "metadata": {},
   "outputs": [],
   "source": [
    "np_workflows.task_select_widget(experiment)"
   ]
  },
  {
   "cell_type": "markdown",
   "metadata": {},
   "source": [
    "Double-check task until we have confidence in the new widget!"
   ]
  },
  {
   "cell_type": "code",
   "execution_count": null,
   "metadata": {},
   "outputs": [],
   "source": [
    "print(f'Task is currently set to: \\n\\n\\t{experiment.task_name}')"
   ]
  },
  {
   "cell_type": "markdown",
   "metadata": {},
   "source": [
    "## Check/modify github hash"
   ]
  },
  {
   "cell_type": "code",
   "execution_count": null,
   "metadata": {},
   "outputs": [],
   "source": [
    "experiment.commit_hash, experiment.github_url, experiment.use_github"
   ]
  },
  {
   "cell_type": "markdown",
   "metadata": {},
   "source": [
    "Verify that the required script can be found on github:"
   ]
  },
  {
   "cell_type": "code",
   "execution_count": null,
   "metadata": {},
   "outputs": [],
   "source": [
    "if experiment.use_github:\n",
    "    assert experiment.camstim_script.exists(), f\"{experiment.camstim_script = } could not be accessed - don't continue!\"\n",
    "print('Script found on github - all clear!')"
   ]
  },
  {
   "cell_type": "markdown",
   "metadata": {},
   "source": [
    "***\n",
    "## Set up some aliases for the workflow\n",
    "\n",
    "Manually assign `True` or `False` if you need to alter the workflow\n",
    "\n",
    "Note: overriding these bools will only affect which lines run in the notebook.\n",
    "Other experiment code may check `experiment.is_ephys` etc. behind the scenes."
   ]
  },
  {
   "cell_type": "code",
   "execution_count": null,
   "metadata": {},
   "outputs": [],
   "source": [
    "hab: bool = experiment.is_hab\n",
    "hab_day_1: bool = experiment.mouse.state.get('last_workflow') is None\n",
    "opto: bool = experiment.is_opto     # 'opto' in task name: opto stim will run during task trials\n",
    "pretest: bool = experiment.is_pretest\n",
    "ephys: bool = experiment.is_ephys or pretest  # probes will be inserted: (ephys and opto) is possible\n",
    "optotagging: bool = experiment.is_optotagging or pretest"
   ]
  },
  {
   "cell_type": "markdown",
   "metadata": {},
   "source": [
    "***\n",
    "## Pretest\n",
    "Checks before running"
   ]
  },
  {
   "cell_type": "code",
   "execution_count": null,
   "metadata": {},
   "outputs": [],
   "source": [
    "np_workflows.check_hardware_widget()"
   ]
  },
  {
   "cell_type": "code",
   "execution_count": null,
   "metadata": {
    "tags": []
   },
   "outputs": [],
   "source": [
    "if ephys:\n",
    "    np_workflows.check_openephys_widget()"
   ]
  },
  {
   "cell_type": "markdown",
   "metadata": {
    "tags": []
   },
   "source": [
    "***\n",
    "## Setup, test, reset all components\n",
    "*This cell must not be skipped!*"
   ]
  },
  {
   "cell_type": "code",
   "execution_count": null,
   "metadata": {},
   "outputs": [],
   "source": [
    "assert experiment.task_name, \"task name has not been set - assign manually in cell above\"\n",
    "experiment.initialize_and_test_services()"
   ]
  },
  {
   "cell_type": "markdown",
   "metadata": {},
   "source": [
    "***\n",
    "## Run sound test"
   ]
  },
  {
   "cell_type": "code",
   "execution_count": null,
   "metadata": {
    "tags": []
   },
   "outputs": [],
   "source": [
    "experiment.run_sound_test()"
   ]
  },
  {
   "cell_type": "markdown",
   "metadata": {},
   "source": [
    "---\n",
    "## MouseDirector: extend lick spout and set position for mouse\n",
    "- so it doesn't fly out to an unknown position when the mouse is on the stage"
   ]
  },
  {
   "cell_type": "markdown",
   "metadata": {},
   "source": [
    "***\n",
    "## Dip probes"
   ]
  },
  {
   "cell_type": "code",
   "execution_count": null,
   "metadata": {},
   "outputs": [],
   "source": [
    "if ephys:\n",
    "    np_workflows.dye_widget(session.npexp_path)\n",
    "    DR.photodoc_widget(session, 'pre_experiment_surface_image')"
   ]
  },
  {
   "cell_type": "markdown",
   "metadata": {},
   "source": [
    "***\n",
    "***\n",
    "# **With mouse on stage**\n",
    "## Before lowering cartridge"
   ]
  },
  {
   "cell_type": "code",
   "execution_count": null,
   "metadata": {
    "tags": []
   },
   "outputs": [],
   "source": [
    "experiment.log('Mouse on stage')\n",
    "np_workflows.check_mouse_widget()"
   ]
  },
  {
   "cell_type": "markdown",
   "metadata": {},
   "source": [
    "***\n",
    "## When cartridge is lowered"
   ]
  },
  {
   "cell_type": "code",
   "execution_count": null,
   "metadata": {
    "tags": []
   },
   "outputs": [],
   "source": [
    "DR.photodoc_widget(session, 'brain_surface_image')"
   ]
  },
  {
   "cell_type": "markdown",
   "metadata": {},
   "source": [
    "***\n",
    "## Probe insertion\n",
    "*re-run the cell after modifying `shield_name` or `experiment_day`*"
   ]
  },
  {
   "cell_type": "code",
   "execution_count": null,
   "metadata": {},
   "outputs": [],
   "source": [
    "if ephys and not pretest:\n",
    "    \n",
    "    save_paths = (\n",
    "        session.npexp_path / 'insertions.json',\n",
    "        pathlib.Path(f'//allen/programs/mindscope/workgroups/dynamicrouting/ben/implants/insertion_records/{session.folder}.json'),\n",
    "    )\n",
    "    widget = npc_shields.get_insertion_widget(\n",
    "        save_paths=save_paths,\n",
    "        session=session.folder,\n",
    "        # -----------------------------------------------------------------------\n",
    "        shield_name='',         # <-- UPDATE THIS: '2002', '2005', '2006', etc.\n",
    "        experiment_day=0,       # <-- UPDATE THIS: 1, 2, 3, 4, ...\n",
    "        # -----------------------------------------------------------------------\n",
    "    )\n",
    "    \n",
    "    display(widget)"
   ]
  },
  {
   "cell_type": "code",
   "execution_count": null,
   "metadata": {},
   "outputs": [],
   "source": [
    "if ephys or opto:\n",
    "    np_workflows.isi_widget(mouse.lims)"
   ]
  },
  {
   "cell_type": "markdown",
   "metadata": {},
   "source": [
    "---\n",
    "## Extra advance & retract each probe\n",
    "- use NewScale GUI to advance an extra 100 $\\mu m$ at 200 $\\mu m/s$, then reverse 100 $\\mu m$ at the same rate"
   ]
  },
  {
   "cell_type": "markdown",
   "metadata": {},
   "source": [
    "***\n",
    "## Photodoc before advancing probes"
   ]
  },
  {
   "cell_type": "code",
   "execution_count": null,
   "metadata": {
    "tags": []
   },
   "outputs": [],
   "source": [
    "if ephys or opto:\n",
    "    DR.photodoc_widget(session, 'pre_insertion_surface_image')"
   ]
  },
  {
   "cell_type": "markdown",
   "metadata": {},
   "source": [
    "***\n",
    "## Settle timer with dark screen (screen should be closed)\n",
    "### *Turn on laser & configure OptoGUI while waiting...*"
   ]
  },
  {
   "cell_type": "code",
   "execution_count": null,
   "metadata": {
    "tags": []
   },
   "outputs": [],
   "source": [
    "experiment.set_dark_desktop_on_stim()\n",
    "if ephys:\n",
    "    experiment.log('settle timer started')\n",
    "    np_workflows.print_countdown_timer(minutes=.1 if experiment.is_pretest else 20)\n",
    "    experiment.log('settle timer finished')"
   ]
  },
  {
   "cell_type": "markdown",
   "metadata": {},
   "source": [
    "### Confirm OptoGUI params file can be found\n",
    "*opto stimuli/tagging won't be able to run without it!*"
   ]
  },
  {
   "cell_type": "code",
   "execution_count": null,
   "metadata": {},
   "outputs": [],
   "source": [
    "if ephys:\n",
    "    display('optotagging', experiment.optotagging_params)\n",
    "if opto:\n",
    "    display('opto', experiment.opto_params)"
   ]
  },
  {
   "cell_type": "markdown",
   "metadata": {},
   "source": [
    "***\n",
    "## Photodoc after probes settled, before experiment"
   ]
  },
  {
   "cell_type": "code",
   "execution_count": null,
   "metadata": {
    "tags": []
   },
   "outputs": [],
   "source": [
    "if ephys or opto:\n",
    "    DR.photodoc_widget(session, 'post_insertion_surface_image')"
   ]
  },
  {
   "cell_type": "code",
   "execution_count": null,
   "metadata": {},
   "outputs": [],
   "source": [
    "np_workflows.pre_stim_check_widget()"
   ]
  },
  {
   "cell_type": "markdown",
   "metadata": {},
   "source": [
    "--- \n",
    "# Flush line before starting experiment \n",
    "## Set mouse offset in MouseDirector\n",
    "- ideally the line should be flushed and checked just before the lick spout is extended, but that won't be possible if all the stimulus cells are queued up together, so do it now"
   ]
  },
  {
   "cell_type": "markdown",
   "metadata": {},
   "source": [
    "## Set optotagging params"
   ]
  },
  {
   "cell_type": "code",
   "execution_count": null,
   "metadata": {},
   "outputs": [],
   "source": [
    "# these will be added to the minimum set of required params (rig ID, subject etc.), which are already known \n",
    "experiment.optotagging_params = {\n",
    "    'optoAmp': \"[1, 5, 10]\",       # comma-separated values: like a regular python list enclosed in a string\n",
    "    'trialsPerType': \"30\",\n",
    "}"
   ]
  },
  {
   "cell_type": "markdown",
   "metadata": {},
   "source": [
    "***\n",
    "## Start devices recording"
   ]
  },
  {
   "cell_type": "code",
   "execution_count": null,
   "metadata": {},
   "outputs": [],
   "source": [
    "experiment.initialize_and_test_services()   # re-do this cell from earlier, right before recording"
   ]
  },
  {
   "cell_type": "code",
   "execution_count": null,
   "metadata": {
    "tags": []
   },
   "outputs": [],
   "source": [
    "experiment.start_recording()"
   ]
  },
  {
   "cell_type": "markdown",
   "metadata": {},
   "source": [
    "***\n",
    "## Without lick spout\n",
    "### just optotagging"
   ]
  },
  {
   "cell_type": "code",
   "execution_count": null,
   "metadata": {},
   "outputs": [],
   "source": [
    "np_services.MouseDirector.get_proxy().retract_lick_spout()\n",
    "experiment.run_optotagging()"
   ]
  },
  {
   "cell_type": "markdown",
   "metadata": {},
   "source": [
    "***\n",
    "## Stop recording"
   ]
  },
  {
   "cell_type": "code",
   "execution_count": null,
   "metadata": {},
   "outputs": [],
   "source": [
    "experiment.stop_recording_after_stim_finished()\n",
    "\n",
    "np_services.MouseDirector.get_proxy().retract_lick_spout()\n",
    "experiment.reset_desktop_on_stim()"
   ]
  },
  {
   "cell_type": "markdown",
   "metadata": {},
   "source": [
    "*** \n",
    "## Surface channel recording (experimental)"
   ]
  },
  {
   "cell_type": "markdown",
   "metadata": {},
   "source": [
    "Run this to make sure the previous recording gets copied after the surface channel recording:"
   ]
  },
  {
   "cell_type": "code",
   "execution_count": null,
   "metadata": {},
   "outputs": [],
   "source": [
    "np_services.OpenEphys.finalize()"
   ]
  },
  {
   "cell_type": "code",
   "execution_count": null,
   "metadata": {},
   "outputs": [],
   "source": [
    "if ephys and not pretest:\n",
    "    import requests, json, time\n",
    "\n",
    "    open_ephys = np_services.OpenEphys\n",
    "\n",
    "    NEUROPIX_PXI_PROCESSOR = 100 # <- check number in the `Graph` tab in the GUI (right, above `LFP`)\n",
    "\n",
    "    # set all probes to use middle channel bank, and set tip-reference \n",
    "    channels = range(385, 384*2 + 1) # c++ 1-indexed\n",
    "    for dock in (1,):\n",
    "        for slot in (2, 3):\n",
    "            for port in (1, 2, 3,):\n",
    "                msgs = []\n",
    "                msgs.append({\"text\": f\"NP SELECT {slot} {port} {dock} {' '.join(map(str, channels))}\"})\n",
    "                msgs.append({\"text\": f\"NP REFERENCE {slot} {port} {dock} {'TIP'}\"})\n",
    "                for msg in msgs:\n",
    "                    response = requests.put(u := (open_ephys.url(open_ephys.Endpoint.processors) + f\"/{NEUROPIX_PXI_PROCESSOR}/config\"), json.dumps(msg))\n",
    "                    time.sleep(0.2)"
   ]
  },
  {
   "cell_type": "code",
   "execution_count": null,
   "metadata": {},
   "outputs": [],
   "source": [
    "if ephys and not pretest:\n",
    "    open_ephys.set_folder(f\"{session}_surface_channels\")"
   ]
  },
  {
   "cell_type": "code",
   "execution_count": null,
   "metadata": {},
   "outputs": [],
   "source": [
    "## this shouldn't be necessary but in case start fails:\n",
    "# open_ephys.set_state(open_ephys.State.acquire) \n",
    "if ephys and not pretest:\n",
    "    open_ephys.start()\n",
    "    time.sleep(60 * 5)\n",
    "    open_ephys.stop()"
   ]
  },
  {
   "cell_type": "code",
   "execution_count": null,
   "metadata": {},
   "outputs": [],
   "source": [
    "if ephys and not pretest:\n",
    "    # reset all probes to use lower channel bank, and set tip-reference \n",
    "    channels = range(1, 384 + 1) # c++ 1-indexed\n",
    "    for dock in (1,):\n",
    "        for slot in (2, 3):\n",
    "            for port in (1, 2, 3,):\n",
    "                msgs = []\n",
    "                msgs.append({\"text\": f\"NP SELECT {slot} {port} {dock} {' '.join(map(str, channels))}\"})\n",
    "                msgs.append({\"text\": f\"NP REFERENCE {slot} {port} {dock} {'TIP'}\"})\n",
    "                for msg in msgs:\n",
    "                    response = requests.put(u := (open_ephys.url(open_ephys.Endpoint.processors) + f\"/{NEUROPIX_PXI_PROCESSOR}/config\"), json.dumps(msg))\n",
    "                    time.sleep(0.2)"
   ]
  },
  {
   "cell_type": "markdown",
   "metadata": {},
   "source": [
    "***\n",
    "## Before removing probes"
   ]
  },
  {
   "cell_type": "code",
   "execution_count": null,
   "metadata": {},
   "outputs": [],
   "source": [
    "if ephys or opto:\n",
    "    DR.photodoc_widget(session, 'post_stimulus_surface_image')"
   ]
  },
  {
   "cell_type": "markdown",
   "metadata": {},
   "source": [
    "***\n",
    "## After fully retracting probes"
   ]
  },
  {
   "cell_type": "code",
   "execution_count": null,
   "metadata": {},
   "outputs": [],
   "source": [
    "if ephys or opto:\n",
    "    DR.photodoc_widget(session, 'post_experiment_surface_image')"
   ]
  },
  {
   "cell_type": "markdown",
   "metadata": {},
   "source": [
    "### Go back and check insertion records are correct in implant widget"
   ]
  },
  {
   "cell_type": "markdown",
   "metadata": {},
   "source": [
    "***\n",
    "## After raising cartridge"
   ]
  },
  {
   "cell_type": "code",
   "execution_count": null,
   "metadata": {},
   "outputs": [],
   "source": [
    "np_workflows.finishing_checks_widget()"
   ]
  },
  {
   "cell_type": "markdown",
   "metadata": {},
   "source": [
    "## Record mouse off stage time"
   ]
  },
  {
   "cell_type": "code",
   "execution_count": null,
   "metadata": {},
   "outputs": [],
   "source": [
    "experiment.log('Mouse off stage')"
   ]
  },
  {
   "cell_type": "markdown",
   "metadata": {},
   "source": [
    "***"
   ]
  },
  {
   "cell_type": "markdown",
   "metadata": {},
   "source": [
    "## Finalize"
   ]
  },
  {
   "cell_type": "code",
   "execution_count": null,
   "metadata": {},
   "outputs": [],
   "source": [
    "experiment.finalize_services(*experiment.recorders, *experiment.stims)\n",
    "experiment.validate_services(*experiment.recorders, *experiment.stims)"
   ]
  },
  {
   "cell_type": "markdown",
   "metadata": {},
   "source": [
    "## Copy data"
   ]
  },
  {
   "cell_type": "markdown",
   "metadata": {},
   "source": [
    "### copy all raw dataexcept ephys to /allen "
   ]
  },
  {
   "cell_type": "code",
   "execution_count": null,
   "metadata": {},
   "outputs": [],
   "source": [
    "experiment.copy_data_files()"
   ]
  },
  {
   "cell_type": "markdown",
   "metadata": {},
   "source": [
    "### run and save QC notebook in current working directory "
   ]
  },
  {
   "cell_type": "code",
   "execution_count": null,
   "metadata": {},
   "outputs": [],
   "source": [
    "ephys_record_node_dirs = tuple(\n",
    "    next(path.glob('Record Node*')).as_posix()\n",
    "    for path in np_services.OpenEphys.data_files\n",
    "    if experiment.session.folder in path.name\n",
    "    and 'surface' not in path.name\n",
    ")\n",
    "\n",
    "with contextlib.suppress(Exception):\n",
    "    import npc_sessions\n",
    "    npc_sessions.write_qc_notebook(\n",
    "        session_path_or_id=experiment.session.npexp_path.as_posix(),\n",
    "        save_path=pathlib.Path.cwd(),\n",
    "        ephys_record_node_dirs=ephys_record_node_dirs,\n",
    "    )\n",
    "    \n",
    "with contextlib.suppress(Exception):\n",
    "    import npc_sessions\n",
    "    npc_sessions.Session(\n",
    "        session_path_or_id=experiment.session.npexp_path.as_posix(),\n",
    "        ephys_record_node_dirs=ephys_record_node_dirs,\n",
    "    )._aind_session_metadata.write_standard_file(experiment.session.npexp_path)"
   ]
  },
  {
   "cell_type": "code",
   "execution_count": null,
   "metadata": {},
   "outputs": [],
   "source": []
  },
  {
   "cell_type": "code",
   "execution_count": null,
   "metadata": {},
   "outputs": [],
   "source": [
    "import np_jobs\n",
    "experiment.copy_workflow_files()\n",
    "experiment.copy_mpe_configs()\n",
    "# np_jobs.PipelineQCQueue().add_or_update(session, priority=99)\n",
    "# experiment.copy_ephys()"
   ]
  },
  {
   "cell_type": "markdown",
   "metadata": {},
   "source": [
    "## Manually move ephys data to workgroups folder (with checksum verification)\n",
    "\n",
    "### Drag and drop with right-click, and choose `TeraMove here`\n",
    "\n",
    "For folders in A: and B: drives:\n",
    "\n",
    "- main ephys recording into session folder:    \n",
    "    `A:\\<sessionID>` -> `\\\\allen\\programs\\mindscope\\workgroups\\dynamicrouting\\PilotEphys\\Task 2 pilot\\<sessionID>`\n",
    "    \n",
    "- surface channels recording into the folder above:\n",
    "    `A:\\<sessionID>_surface_channels` -> `\\\\allen\\programs\\mindscope\\workgroups\\dynamicrouting\\PilotEphys\\Task 2 pilot`\n",
    "    \n",
    "Ensure `verify` is checked"
   ]
  }
 ],
 "metadata": {
  "kernelspec": {
   "display_name": "Python 3.11.1 ('.venv': poetry)",
   "language": "python",
   "name": "python3"
  },
  "language_info": {
   "codemirror_mode": {
    "name": "ipython",
    "version": 3
   },
   "file_extension": ".py",
   "mimetype": "text/x-python",
   "name": "python",
   "nbconvert_exporter": "python",
   "pygments_lexer": "ipython3",
   "version": "3.11.3"
  },
  "toc-autonumbering": true,
  "vscode": {
   "interpreter": {
    "hash": "75a294dbf81199b26941ed5b32867c59e8bcc1170a51aebad9d5a69e8ca694a9"
   }
  }
 },
 "nbformat": 4,
 "nbformat_minor": 4
}
